{
 "cells": [
  {
   "cell_type": "code",
   "execution_count": 1,
   "metadata": {},
   "outputs": [
    {
     "data": {
      "text/plain": [
       "'cuda'"
      ]
     },
     "execution_count": 1,
     "metadata": {},
     "output_type": "execute_result"
    }
   ],
   "source": [
    "import pandas as pd\n",
    "import torch\n",
    "device = 'cuda' if torch.cuda.is_available() else 'cpu'\n",
    "device"
   ]
  },
  {
   "cell_type": "code",
   "execution_count": 2,
   "metadata": {},
   "outputs": [],
   "source": [
    "from detoxify import Detoxify\n",
    "classificator = Detoxify('unbiased')\n",
    "results = classificator.predict(['example text 1','G...! What the fuck?'])"
   ]
  },
  {
   "cell_type": "code",
   "execution_count": 3,
   "metadata": {},
   "outputs": [
    {
     "data": {
      "text/plain": [
       "[0.0004102117964066565, 0.974835991859436]"
      ]
     },
     "execution_count": 3,
     "metadata": {},
     "output_type": "execute_result"
    }
   ],
   "source": [
    "results['toxicity']"
   ]
  },
  {
   "cell_type": "code",
   "execution_count": 4,
   "metadata": {},
   "outputs": [],
   "source": [
    "detox_data = pd.read_csv('../data/interim/test_filtered.csv')\n",
    "X, y_true = detox_data['reference'].values, detox_data['translation'].values"
   ]
  },
  {
   "cell_type": "code",
   "execution_count": 5,
   "metadata": {},
   "outputs": [
    {
     "data": {
      "text/plain": [
       "array([\"Hot chicks are starfuckers in Coeur d'Alene.\",\n",
       "       \"Oh, Grace, don't be ridiculous.\", 'Two... - Fuck yo sister.',\n",
       "       \"Next time you decide to take a bath, Private, let me know, or I'll kick your ass,\",\n",
       "       'I finally caught you, you dirty--'], dtype=object)"
      ]
     },
     "execution_count": 5,
     "metadata": {},
     "output_type": "execute_result"
    }
   ],
   "source": [
    "X[:5]"
   ]
  },
  {
   "cell_type": "code",
   "execution_count": 6,
   "metadata": {},
   "outputs": [],
   "source": [
    "# import sys\n",
    "# sys.executable\n",
    "#!c:\\\\Users\\\\hir0\\\\anaconda3\\\\python.exe -m pip install git+https://github.com/PrithivirajDamodaran/Parrot_Paraphraser.git\n",
    "from parrot import Parrot\n",
    "paraphraser_model = Parrot(model_tag=\"prithivida/parrot_paraphraser_on_T5\", use_gpu=True)"
   ]
  },
  {
   "cell_type": "code",
   "execution_count": 8,
   "metadata": {},
   "outputs": [],
   "source": [
    "def T5_paraphraser(sentence):\n",
    "\n",
    "    res = paraphraser_model.augment(input_phrase=sentence, use_gpu=True)\n",
    "    if res:\n",
    "        res = list(map(lambda x: x[0], res))\n",
    "    else:\n",
    "        res = [sentence]\n",
    "    return res\n"
   ]
  },
  {
   "cell_type": "code",
   "execution_count": 9,
   "metadata": {},
   "outputs": [],
   "source": [
    "#hyperparameter\n",
    "#n-word tokenizer\n",
    "def n_word_tokenizer(sentence, n=2):\n",
    "    splitted = sentence.split()\n",
    "    slices = [splitted[i * n: i * n + n] for i in range((len(splitted)  + n - 1)// n)]\n",
    "    n_sentence = [' '.join(part) for part in slices]\n",
    "    return n_sentence"
   ]
  },
  {
   "cell_type": "code",
   "execution_count": 10,
   "metadata": {},
   "outputs": [
    {
     "data": {
      "text/plain": [
       "['ya ebaniy', '4ert idi', 'te nahui', 'r']"
      ]
     },
     "execution_count": 10,
     "metadata": {},
     "output_type": "execute_result"
    }
   ],
   "source": [
    "n_word_tokenizer('ya ebaniy 4ert idi te nahui r', n=2)"
   ]
  },
  {
   "cell_type": "code",
   "execution_count": 11,
   "metadata": {},
   "outputs": [],
   "source": [
    "def paraphraser(sentence, n):\n",
    "    def get_synonym_by_context(sentence):\n",
    "        # Disambiguate the word in the context sentences\n",
    "        paraphrased_variants = T5_paraphraser(sentence)\n",
    "        #rearrange synonyms by they toxicity\n",
    "        synonyms = sorted([(synonym, classificator.predict(synonym)['toxicity']) for synonym in paraphrased_variants], key= lambda x: x[1])\n",
    "        return synonyms[0][0]\n",
    "    splitted_to_n_words = n_word_tokenizer(sentence, n=n)\n",
    "    best_paraphrased = [get_synonym_by_context(part) for part in splitted_to_n_words]\n",
    "    return ' '.join(best_paraphrased)\n"
   ]
  },
  {
   "cell_type": "code",
   "execution_count": 12,
   "metadata": {},
   "outputs": [
    {
     "name": "stdout",
     "output_type": "stream",
     "text": [
      "Original:Hot chicks are starfuckers in Coeur d'Alene.\n",
      "Detoxified:Hot chicks are starfuckers in Coeur d'Alene.\n",
      "Original:Oh, Grace, don't be ridiculous.\n",
      "Detoxified:Oh, Grace, don't be ridiculous.\n",
      "Original:Two... - Fuck yo sister.\n",
      "Detoxified:two - fuck your sister\n",
      "Original:Next time you decide to take a bath, Private, let me know, or I'll kick your ass,\n",
      "Detoxified:when you decide to bathe private let me know or i'll kick your hammer\n",
      "Original:I finally caught you, you dirty--\n",
      "Detoxified:I finally caught you, you dirty--\n",
      "Original:God, diarrhoea like thatmust be Anti-Hippocratic.\n",
      "Detoxified:God, diarrhoea like thatmust be Anti-Hippocratic.\n",
      "Original:You're a liar. - And I love you for it.\n",
      "Detoxified:you're a lie\n",
      "Original:'I don't need to look at that rubbish, I know it all.'\n",
      "Detoxified:'I don't need to look at that rubbish, I know it all.'\n",
      "Original:You know You bitch and you complain and you tell me these things.\n",
      "Detoxified:you know you complain and you tell me all of these things\n",
      "Original:I'm so damned disappointed.\n",
      "Detoxified:i'm absolutely disappointed\n"
     ]
    }
   ],
   "source": [
    "for i in range(10):\n",
    "    print(f'Original:{X[i]}')\n",
    "    print(f'Detoxified:{paraphraser(X[i], len(X[i]))}')"
   ]
  },
  {
   "cell_type": "code",
   "execution_count": 13,
   "metadata": {},
   "outputs": [],
   "source": [
    "import sys\n",
    "sys.path.insert(0, '../src/metric')\n",
    "from metric import calculate_metric\n"
   ]
  },
  {
   "cell_type": "code",
   "execution_count": 39,
   "metadata": {},
   "outputs": [
    {
     "data": {
      "image/png": "[encoded data removed]",
      "text/plain": [
       "<Figure size 1000x500 with 1 Axes>"
      ]
     },
     "metadata": {},
     "output_type": "display_data"
    }
   ],
   "source": [
    "import matplotlib.pyplot as plt\n",
    "import numpy as np\n",
    "\n",
    "\n",
    "lens = list(map(lambda x: len(x.split()), X))\n",
    "unique_lens, cnt = np.unique(lens, return_counts=True)\n",
    "\n",
    "\n",
    "mean = np.sum(unique_lens * cnt) / np.sum(cnt)\n",
    "\n",
    "plt.figure(figsize=(10, 5))\n",
    "plt.bar(unique_lens, cnt)\n",
    "\n",
    "plt.axvline(mean, color='red', linestyle='--', label=f'Mean: {mean:.2f}')\n",
    "plt.title('Number of words in sentence')\n",
    "plt.xlabel('Words count')\n",
    "plt.ylabel('Sentences')\n",
    "plt.legend()\n",
    "plt.show()\n"
   ]
  },
  {
   "cell_type": "code",
   "execution_count": 14,
   "metadata": {},
   "outputs": [],
   "source": [
    "#grid search of n\n",
    "#let's take 100 examples due to lack of perfomance and tring to figure out the best n\n",
    "N_samples = 100\n",
    "X_subset, y_true_subset = X[:N_samples], y_true[:N_samples]"
   ]
  },
  {
   "cell_type": "markdown",
   "metadata": {},
   "source": [
    "Since the number of words in average is 10, so let's grid search n until the half of sentence and take to consideration also the whole sentence"
   ]
  },
  {
   "cell_type": "code",
   "execution_count": 15,
   "metadata": {},
   "outputs": [
    {
     "name": "stdout",
     "output_type": "stream",
     "text": [
      "25\n"
     ]
    },
    {
     "name": "stderr",
     "output_type": "stream",
     "text": [
      "0it [00:00, ?it/s]"
     ]
    },
    {
     "name": "stdout",
     "output_type": "stream",
     "text": [
      "running on cuda\n",
      "Calculating style of predictions\n"
     ]
    },
    {
     "name": "stderr",
     "output_type": "stream",
     "text": [
      "Some weights of the model checkpoint at SkolkovoInstitute/roberta_toxicity_classifier were not used when initializing RobertaForSequenceClassification: ['roberta.pooler.dense.bias', 'roberta.pooler.dense.weight']\n",
      "- This IS expected if you are initializing RobertaForSequenceClassification from the checkpoint of a model trained on another task or with another architecture (e.g. initializing a BertForSequenceClassification model from a BertForPreTraining model).\n",
      "- This IS NOT expected if you are initializing RobertaForSequenceClassification from the checkpoint of a model that you expect to be exactly identical (initializing a BertForSequenceClassification model from a BertForSequenceClassification model).\n",
      "100%|██████████| 4/4 [00:00<00:00, 19.20it/s]\n",
      "c:\\Users\\hir0\\anaconda3\\lib\\site-packages\\nltk\\translate\\bleu_score.py:552: UserWarning: \n",
      "The hypothesis contains 0 counts of 4-gram overlaps.\n",
      "Therefore the BLEU score evaluates to 0, independently of\n",
      "how many N-gram overlaps of lower order it contains.\n",
      "Consider using lower n-gram order or use SmoothingFunction()\n",
      "  warnings.warn(_msg)\n",
      "c:\\Users\\hir0\\anaconda3\\lib\\site-packages\\nltk\\translate\\bleu_score.py:552: UserWarning: \n",
      "The hypothesis contains 0 counts of 3-gram overlaps.\n",
      "Therefore the BLEU score evaluates to 0, independently of\n",
      "how many N-gram overlaps of lower order it contains.\n",
      "Consider using lower n-gram order or use SmoothingFunction()\n",
      "  warnings.warn(_msg)\n",
      "c:\\Users\\hir0\\anaconda3\\lib\\site-packages\\nltk\\translate\\bleu_score.py:552: UserWarning: \n",
      "The hypothesis contains 0 counts of 2-gram overlaps.\n",
      "Therefore the BLEU score evaluates to 0, independently of\n",
      "how many N-gram overlaps of lower order it contains.\n",
      "Consider using lower n-gram order or use SmoothingFunction()\n",
      "  warnings.warn(_msg)\n"
     ]
    },
    {
     "name": "stdout",
     "output_type": "stream",
     "text": [
      "Calculating BLEU similarity\n",
      "Calculating similarity by Wieting subword-embedding SIM model\n"
     ]
    },
    {
     "name": "stderr",
     "output_type": "stream",
     "text": [
      "100%|██████████| 4/4 [00:00<00:00, 126.00it/s]\n"
     ]
    },
    {
     "name": "stdout",
     "output_type": "stream",
     "text": [
      "Calculating CoLA acceptability stats\n"
     ]
    },
    {
     "name": "stderr",
     "output_type": "stream",
     "text": [
      "100%|██████████| 4/4 [00:00<00:00,  8.63it/s]\n",
      "1it [03:16, 196.74s/it]"
     ]
    },
    {
     "name": "stdout",
     "output_type": "stream",
     "text": [
      "| ACC | SIM |  FL  |   J   | BLEU |\n",
      "\n",
      "| --- | --- | ---- |  ---  | ---- |\n",
      "\n",
      "|0.2600|0.7270|0.6900|0.1531|0.4694|\n",
      "\n",
      "running on cuda\n",
      "Calculating style of predictions\n"
     ]
    },
    {
     "name": "stderr",
     "output_type": "stream",
     "text": [
      "Some weights of the model checkpoint at SkolkovoInstitute/roberta_toxicity_classifier were not used when initializing RobertaForSequenceClassification: ['roberta.pooler.dense.bias', 'roberta.pooler.dense.weight']\n",
      "- This IS expected if you are initializing RobertaForSequenceClassification from the checkpoint of a model trained on another task or with another architecture (e.g. initializing a BertForSequenceClassification model from a BertForPreTraining model).\n",
      "- This IS NOT expected if you are initializing RobertaForSequenceClassification from the checkpoint of a model that you expect to be exactly identical (initializing a BertForSequenceClassification model from a BertForSequenceClassification model).\n",
      "100%|██████████| 4/4 [00:00<00:00, 16.08it/s]\n"
     ]
    },
    {
     "name": "stdout",
     "output_type": "stream",
     "text": [
      "Calculating BLEU similarity\n",
      "Calculating similarity by Wieting subword-embedding SIM model\n"
     ]
    },
    {
     "name": "stderr",
     "output_type": "stream",
     "text": [
      "100%|██████████| 4/4 [00:00<00:00, 140.16it/s]\n"
     ]
    },
    {
     "name": "stdout",
     "output_type": "stream",
     "text": [
      "Calculating CoLA acceptability stats\n"
     ]
    },
    {
     "name": "stderr",
     "output_type": "stream",
     "text": [
      "100%|██████████| 4/4 [00:00<00:00,  7.55it/s]\n",
      "2it [05:56, 174.73s/it]"
     ]
    },
    {
     "name": "stdout",
     "output_type": "stream",
     "text": [
      "| ACC | SIM |  FL  |   J   | BLEU |\n",
      "\n",
      "| --- | --- | ---- |  ---  | ---- |\n",
      "\n",
      "|0.2700|0.7262|0.5900|0.1093|0.4792|\n",
      "\n",
      "running on cuda\n",
      "Calculating style of predictions\n"
     ]
    },
    {
     "name": "stderr",
     "output_type": "stream",
     "text": [
      "Some weights of the model checkpoint at SkolkovoInstitute/roberta_toxicity_classifier were not used when initializing RobertaForSequenceClassification: ['roberta.pooler.dense.bias', 'roberta.pooler.dense.weight']\n",
      "- This IS expected if you are initializing RobertaForSequenceClassification from the checkpoint of a model trained on another task or with another architecture (e.g. initializing a BertForSequenceClassification model from a BertForPreTraining model).\n",
      "- This IS NOT expected if you are initializing RobertaForSequenceClassification from the checkpoint of a model that you expect to be exactly identical (initializing a BertForSequenceClassification model from a BertForSequenceClassification model).\n",
      "100%|██████████| 4/4 [00:00<00:00, 13.89it/s]\n"
     ]
    },
    {
     "name": "stdout",
     "output_type": "stream",
     "text": [
      "Calculating BLEU similarity\n",
      "Calculating similarity by Wieting subword-embedding SIM model\n"
     ]
    },
    {
     "name": "stderr",
     "output_type": "stream",
     "text": [
      "100%|██████████| 4/4 [00:00<00:00, 193.80it/s]\n"
     ]
    },
    {
     "name": "stdout",
     "output_type": "stream",
     "text": [
      "Calculating CoLA acceptability stats\n"
     ]
    },
    {
     "name": "stderr",
     "output_type": "stream",
     "text": [
      "100%|██████████| 4/4 [00:00<00:00,  9.07it/s]\n",
      "3it [08:11, 156.93s/it]"
     ]
    },
    {
     "name": "stdout",
     "output_type": "stream",
     "text": [
      "| ACC | SIM |  FL  |   J   | BLEU |\n",
      "\n",
      "| --- | --- | ---- |  ---  | ---- |\n",
      "\n",
      "|0.3500|0.7257|0.6800|0.1924|0.4789|\n",
      "\n",
      "running on cuda\n",
      "Calculating style of predictions\n"
     ]
    },
    {
     "name": "stderr",
     "output_type": "stream",
     "text": [
      "Some weights of the model checkpoint at SkolkovoInstitute/roberta_toxicity_classifier were not used when initializing RobertaForSequenceClassification: ['roberta.pooler.dense.bias', 'roberta.pooler.dense.weight']\n",
      "- This IS expected if you are initializing RobertaForSequenceClassification from the checkpoint of a model trained on another task or with another architecture (e.g. initializing a BertForSequenceClassification model from a BertForPreTraining model).\n",
      "- This IS NOT expected if you are initializing RobertaForSequenceClassification from the checkpoint of a model that you expect to be exactly identical (initializing a BertForSequenceClassification model from a BertForSequenceClassification model).\n",
      "100%|██████████| 4/4 [00:00<00:00, 11.50it/s]\n"
     ]
    },
    {
     "name": "stdout",
     "output_type": "stream",
     "text": [
      "Calculating BLEU similarity\n",
      "Calculating similarity by Wieting subword-embedding SIM model\n"
     ]
    },
    {
     "name": "stderr",
     "output_type": "stream",
     "text": [
      "100%|██████████| 4/4 [00:00<00:00, 145.04it/s]\n"
     ]
    },
    {
     "name": "stdout",
     "output_type": "stream",
     "text": [
      "Calculating CoLA acceptability stats\n"
     ]
    },
    {
     "name": "stderr",
     "output_type": "stream",
     "text": [
      "100%|██████████| 4/4 [00:00<00:00,  7.17it/s]\n",
      "4it [10:12, 142.65s/it]"
     ]
    },
    {
     "name": "stdout",
     "output_type": "stream",
     "text": [
      "| ACC | SIM |  FL  |   J   | BLEU |\n",
      "\n",
      "| --- | --- | ---- |  ---  | ---- |\n",
      "\n",
      "|0.3800|0.7290|0.6700|0.1786|0.4738|\n",
      "\n",
      "running on cuda\n",
      "Calculating style of predictions\n"
     ]
    },
    {
     "name": "stderr",
     "output_type": "stream",
     "text": [
      "Some weights of the model checkpoint at SkolkovoInstitute/roberta_toxicity_classifier were not used when initializing RobertaForSequenceClassification: ['roberta.pooler.dense.bias', 'roberta.pooler.dense.weight']\n",
      "- This IS expected if you are initializing RobertaForSequenceClassification from the checkpoint of a model trained on another task or with another architecture (e.g. initializing a BertForSequenceClassification model from a BertForPreTraining model).\n",
      "- This IS NOT expected if you are initializing RobertaForSequenceClassification from the checkpoint of a model that you expect to be exactly identical (initializing a BertForSequenceClassification model from a BertForSequenceClassification model).\n",
      "100%|██████████| 4/4 [00:00<00:00, 12.40it/s]\n"
     ]
    },
    {
     "name": "stdout",
     "output_type": "stream",
     "text": [
      "Calculating BLEU similarity\n",
      "Calculating similarity by Wieting subword-embedding SIM model\n"
     ]
    },
    {
     "name": "stderr",
     "output_type": "stream",
     "text": [
      "100%|██████████| 4/4 [00:00<00:00, 172.11it/s]\n"
     ]
    },
    {
     "name": "stdout",
     "output_type": "stream",
     "text": [
      "Calculating CoLA acceptability stats\n"
     ]
    },
    {
     "name": "stderr",
     "output_type": "stream",
     "text": [
      "100%|██████████| 4/4 [00:00<00:00,  9.01it/s]\n",
      "5it [11:26, 137.27s/it]"
     ]
    },
    {
     "name": "stdout",
     "output_type": "stream",
     "text": [
      "| ACC | SIM |  FL  |   J   | BLEU |\n",
      "\n",
      "| --- | --- | ---- |  ---  | ---- |\n",
      "\n",
      "|0.4900|0.7202|0.5400|0.2281|0.4702|\n",
      "\n"
     ]
    },
    {
     "name": "stderr",
     "output_type": "stream",
     "text": [
      "\n"
     ]
    }
   ],
   "source": [
    "from tqdm import tqdm\n",
    "max_number_of_words = max(list(map(lambda x: len(x.split()), X_subset)))\n",
    "print(max_number_of_words)\n",
    "\n",
    "n_params = [2, 3, 4, 5, max_number_of_words]\n",
    "dict_metrics = {'ACC': [], 'SIM': [], 'FL': [], 'J': [], 'BLUE':[]}\n",
    "\n",
    "for ind, n in tqdm(enumerate(n_params)):\n",
    "    outputs = []\n",
    "    \n",
    "    for sentence in X_subset:\n",
    "        outputs.append(paraphraser(sentence, min(n, len(sentence.split()))))\n",
    "    \n",
    "    metrics = calculate_metric(y_true_subset, outputs)\n",
    "    for key in metrics:\n",
    "        dict_metrics[key].append(metrics[key])\n",
    "\n"
   ]
  },
  {
   "cell_type": "code",
   "execution_count": 40,
   "metadata": {},
   "outputs": [
    {
     "data": {
      "text/plain": [
       "{'ACC': [0.26, 0.27, 0.35, 0.38, 0.49],\n",
       " 'SIM': [0.7269790127873421,\n",
       "  0.7262186995148658,\n",
       "  0.7256658336520195,\n",
       "  0.7289981850981713,\n",
       "  0.7202394446730613],\n",
       " 'FL': [0.69, 0.59, 0.68, 0.67, 0.54],\n",
       " 'J': [0.15314846634864807,\n",
       "  0.10925602167844772,\n",
       "  0.1923617935180664,\n",
       "  0.17864975214004516,\n",
       "  0.22806155890226365],\n",
       " 'BLUE': [0.46942134182327655,\n",
       "  0.47924158708759246,\n",
       "  0.47891737119426564,\n",
       "  0.47382208001976617,\n",
       "  0.4701602405710867]}"
      ]
     },
     "execution_count": 40,
     "metadata": {},
     "output_type": "execute_result"
    }
   ],
   "source": [
    "dict_metrics"
   ]
  },
  {
   "cell_type": "code",
   "execution_count": 53,
   "metadata": {},
   "outputs": [
    {
     "data": {
      "image/png": "[encoded data removed]",
      "text/plain": [
       "<Figure size 1500x500 with 5 Axes>"
      ]
     },
     "metadata": {},
     "output_type": "display_data"
    }
   ],
   "source": [
    "fig, axs = plt.subplots(1, len(dict_metrics), figsize=(15, 5))\n",
    "x = [2, 3, 4, 5, 6]\n",
    "#6 - the whole sentence\n",
    "for i, (metric, values) in enumerate(dict_metrics.items()):\n",
    "    axs[i].plot(x, np.round(values, 2))\n",
    "    axs[i].set_title(metric)\n",
    "    axs[i].set_xlabel('x values')\n",
    "    axs[i].set_ylabel(metric)\n",
    "\n",
    "plt.tight_layout()\n",
    "plt.show()"
   ]
  },
  {
   "cell_type": "code",
   "execution_count": 17,
   "metadata": {},
   "outputs": [
    {
     "name": "stdout",
     "output_type": "stream",
     "text": [
      "Original:Hot chicks are starfuckers in Coeur d'Alene.\n",
      "Detoxified:Hot chicks are starfuckers in coeur d'alene\n",
      "Original:Oh, Grace, don't be ridiculous.\n",
      "Detoxified:Oh, Grace, don't be ridiculous.\n",
      "Original:Two... - Fuck yo sister.\n",
      "Detoxified:two - fuck your sister\n",
      "Original:Next time you decide to take a bath, Private, let me know, or I'll kick your ass,\n",
      "Detoxified:next time you decide to do it take a bath private let me know your ass,\n",
      "Original:I finally caught you, you dirty--\n",
      "Detoxified:i finally found you dirty--\n",
      "Original:God, diarrhoea like thatmust be Anti-Hippocratic.\n",
      "Detoxified:God, diarrhoea like thatmust be Anti-Hippocratic.\n",
      "Original:You're a liar. - And I love you for it.\n",
      "Detoxified:you're a lie i love you because of that\n",
      "Original:'I don't need to look at that rubbish, I know it all.'\n",
      "Detoxified:i don't have to look i know it it all.'\n",
      "Original:You know You bitch and you complain and you tell me these things.\n",
      "Detoxified:You know You bitch and you complain and tell someone me these things.\n",
      "Original:I'm so damned disappointed.\n",
      "Detoxified:i'm very disappointed\n"
     ]
    }
   ],
   "source": [
    "for i in range(10):\n",
    "    print(f'Original:{X[i]}')\n",
    "    print(f'Detoxified:{paraphraser(X[i], 5)}')"
   ]
  },
  {
   "cell_type": "code",
   "execution_count": 18,
   "metadata": {},
   "outputs": [],
   "source": [
    "# predictions_hypothesis1 = pd.DataFrame({'Predictions': [paraphraser(sentence, best_n) for sentence in X]})\n",
    "# predictions_hypothesis1.to_csv('../data/interim/hypothesis1_predictions.csv')"
   ]
  }
 ],
 "metadata": {
  "kernelspec": {
   "display_name": "Python 3",
   "language": "python",
   "name": "python3"
  },
  "language_info": {
   "codemirror_mode": {
    "name": "ipython",
    "version": 3
   },
   "file_extension": ".py",
   "mimetype": "text/x-python",
   "name": "python",
   "nbconvert_exporter": "python",
   "pygments_lexer": "ipython3",
   "version": "3.9.13"
  }
 },
 "nbformat": 4,
 "nbformat_minor": 2
}
