{
 "cells": [
  {
   "cell_type": "markdown",
   "metadata": {},
   "source": [
    "**Let's combine all the datasets with negative and positive words to create a dataset for the baseline classifier**"
   ]
  },
  {
   "cell_type": "code",
   "execution_count": 1,
   "metadata": {},
   "outputs": [],
   "source": [
    "import pandas as pd\n",
    "\n",
    "df1 = pd.read_csv('../data/external/words/bad-words.csv', header=None)\n",
    "df2 = pd.read_csv('../data/external/words/negative-words.csv', header=None)\n",
    "\n",
    "words = pd.concat([df1, df2], axis=0)\n",
    "labels = pd.DataFrame(['Negative'] * len(words))\n",
    "\n",
    "words = words.reset_index(drop=True)\n",
    "labels = labels.reset_index(drop=True)\n",
    "\n",
    "df = pd.concat([words, labels], axis=1)\n",
    "df.columns = ['word', 'target']\n",
    "\n",
    "df3 = pd.read_csv('../data/external/words/positive-words.csv', header=None)\n",
    "labels = pd.DataFrame(['Positive'] * len(df3))\n",
    "\n",
    "df3 = df3.reset_index(drop=True)\n",
    "labels = labels.reset_index(drop=True)\n",
    "\n",
    "df3 = pd.concat([df3, labels], axis=1)\n",
    "df3.columns = ['word', 'target']\n",
    "df = pd.concat([df, df3])"
   ]
  },
  {
   "cell_type": "code",
   "execution_count": 2,
   "metadata": {},
   "outputs": [
    {
     "data": {
      "text/html": [
       "<div>\n",
       "<style scoped>\n",
       "    .dataframe tbody tr th:only-of-type {\n",
       "        vertical-align: middle;\n",
       "    }\n",
       "\n",
       "    .dataframe tbody tr th {\n",
       "        vertical-align: top;\n",
       "    }\n",
       "\n",
       "    .dataframe thead th {\n",
       "        text-align: right;\n",
       "    }\n",
       "</style>\n",
       "<table border=\"1\" class=\"dataframe\">\n",
       "  <thead>\n",
       "    <tr style=\"text-align: right;\">\n",
       "      <th></th>\n",
       "      <th>word</th>\n",
       "      <th>target</th>\n",
       "    </tr>\n",
       "  </thead>\n",
       "  <tbody>\n",
       "    <tr>\n",
       "      <th>0</th>\n",
       "      <td>jigaboo</td>\n",
       "      <td>Negative</td>\n",
       "    </tr>\n",
       "    <tr>\n",
       "      <th>1</th>\n",
       "      <td>mound of venus</td>\n",
       "      <td>Negative</td>\n",
       "    </tr>\n",
       "    <tr>\n",
       "      <th>2</th>\n",
       "      <td>asslover</td>\n",
       "      <td>Negative</td>\n",
       "    </tr>\n",
       "    <tr>\n",
       "      <th>3</th>\n",
       "      <td>s&amp;m</td>\n",
       "      <td>Negative</td>\n",
       "    </tr>\n",
       "    <tr>\n",
       "      <th>4</th>\n",
       "      <td>queaf</td>\n",
       "      <td>Negative</td>\n",
       "    </tr>\n",
       "    <tr>\n",
       "      <th>...</th>\n",
       "      <td>...</td>\n",
       "      <td>...</td>\n",
       "    </tr>\n",
       "    <tr>\n",
       "      <th>16234</th>\n",
       "      <td>zoom</td>\n",
       "      <td>Positive</td>\n",
       "    </tr>\n",
       "    <tr>\n",
       "      <th>16235</th>\n",
       "      <td>zorbing</td>\n",
       "      <td>Positive</td>\n",
       "    </tr>\n",
       "    <tr>\n",
       "      <th>16236</th>\n",
       "      <td>zouk</td>\n",
       "      <td>Positive</td>\n",
       "    </tr>\n",
       "    <tr>\n",
       "      <th>16237</th>\n",
       "      <td>zounds</td>\n",
       "      <td>Positive</td>\n",
       "    </tr>\n",
       "    <tr>\n",
       "      <th>16238</th>\n",
       "      <td>zowie</td>\n",
       "      <td>Positive</td>\n",
       "    </tr>\n",
       "  </tbody>\n",
       "</table>\n",
       "<p>24645 rows × 2 columns</p>\n",
       "</div>"
      ],
      "text/plain": [
       "                 word    target\n",
       "0             jigaboo  Negative\n",
       "1      mound of venus  Negative\n",
       "2            asslover  Negative\n",
       "3                 s&m  Negative\n",
       "4               queaf  Negative\n",
       "...               ...       ...\n",
       "16234            zoom  Positive\n",
       "16235         zorbing  Positive\n",
       "16236            zouk  Positive\n",
       "16237          zounds  Positive\n",
       "16238           zowie  Positive\n",
       "\n",
       "[24645 rows x 2 columns]"
      ]
     },
     "execution_count": 2,
     "metadata": {},
     "output_type": "execute_result"
    }
   ],
   "source": [
    "df4 = pd.read_csv('../data/external/words/Inappropriate words classification.csv')\n",
    "df4 = df4.drop(columns=['No'])\n",
    "df4.columns = ['word', 'target']\n",
    "df = pd.concat([df, df4])\n",
    "df"
   ]
  },
  {
   "cell_type": "code",
   "execution_count": 3,
   "metadata": {},
   "outputs": [],
   "source": [
    "df = df.reset_index(drop=True)\n",
    "df.to_csv('../data/interim/words.csv')"
   ]
  },
  {
   "cell_type": "markdown",
   "metadata": {},
   "source": []
  }
 ],
 "metadata": {
  "kernelspec": {
   "display_name": "Python 3",
   "language": "python",
   "name": "python3"
  },
  "language_info": {
   "codemirror_mode": {
    "name": "ipython",
    "version": 3
   },
   "file_extension": ".py",
   "mimetype": "text/x-python",
   "name": "python",
   "nbconvert_exporter": "python",
   "pygments_lexer": "ipython3",
   "version": "3.11.2"
  }
 },
 "nbformat": 4,
 "nbformat_minor": 2
}
