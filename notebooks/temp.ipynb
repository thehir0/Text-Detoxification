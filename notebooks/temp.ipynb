{
 "cells": [
  {
   "cell_type": "code",
   "execution_count": 22,
   "metadata": {},
   "outputs": [],
   "source": [
    "import pandas as pd\n",
    "\n",
    "original = pd.read_csv('../data/interim/test_filtered.csv', index_col=0)\n",
    "baseline = pd.read_csv('../data/interim/baseline_predictions.csv', index_col=0)\n",
    "hypothesis1 = pd.read_csv('../data/interim/hypothesis1_predictions.csv', index_col=0)\n",
    "hypothesis2 = pd.read_csv('../data/interim/hypothesis2_predictions.csv', index_col=0)\n",
    "\n",
    "n = len(baseline)"
   ]
  },
  {
   "cell_type": "code",
   "execution_count": 34,
   "metadata": {},
   "outputs": [
    {
     "data": {
      "text/html": [
       "<div>\n",
       "<style scoped>\n",
       "    .dataframe tbody tr th:only-of-type {\n",
       "        vertical-align: middle;\n",
       "    }\n",
       "\n",
       "    .dataframe tbody tr th {\n",
       "        vertical-align: top;\n",
       "    }\n",
       "\n",
       "    .dataframe thead th {\n",
       "        text-align: right;\n",
       "    }\n",
       "</style>\n",
       "<table border=\"1\" class=\"dataframe\">\n",
       "  <thead>\n",
       "    <tr style=\"text-align: right;\">\n",
       "      <th></th>\n",
       "      <th>Original</th>\n",
       "      <th>baseline</th>\n",
       "      <th>hypothesis1</th>\n",
       "      <th>hypothesis2</th>\n",
       "    </tr>\n",
       "  </thead>\n",
       "  <tbody>\n",
       "    <tr>\n",
       "      <th>0</th>\n",
       "      <td>You were fucked by an oven full of witches?</td>\n",
       "      <td>you were love by an oven full of witch</td>\n",
       "      <td>Did you get fucked by the witches in the oven?</td>\n",
       "      <td>you were thrown into an oven full of witches?</td>\n",
       "    </tr>\n",
       "    <tr>\n",
       "      <th>1</th>\n",
       "      <td>Where the fuck you get this from?</td>\n",
       "      <td>where the love you sustain this from</td>\n",
       "      <td>Where did you find this?</td>\n",
       "      <td>where do you get this?</td>\n",
       "    </tr>\n",
       "    <tr>\n",
       "      <th>2</th>\n",
       "      <td>We don't fucking believe you, Yusuf! Fuck!</td>\n",
       "      <td>we dont love believe you yusuf love</td>\n",
       "      <td>We don't think you're right.</td>\n",
       "      <td>we don't believe you, Yusuf!</td>\n",
       "    </tr>\n",
       "    <tr>\n",
       "      <th>3</th>\n",
       "      <td>Shut up or I'll do it again.</td>\n",
       "      <td>shut up or poorly do it again</td>\n",
       "      <td>I'll do it again if I shut up.</td>\n",
       "      <td>let's go, or I'll do it again.</td>\n",
       "    </tr>\n",
       "    <tr>\n",
       "      <th>4</th>\n",
       "      <td>The list of people you’re allowed to have sex with if you’re ever stuck in an elevator with them.</td>\n",
       "      <td>the list of people you ’ re permit to have sex with if you ’ re ever stick in an lift with them</td>\n",
       "      <td>The list of people you can have sex with if you are stuck in an elevator.</td>\n",
       "      <td>the list of people you can have sex with if you're stuck in an</td>\n",
       "    </tr>\n",
       "  </tbody>\n",
       "</table>\n",
       "</div>"
      ],
      "text/plain": [
       "                                                                                            Original  \\\n",
       "0                                                        You were fucked by an oven full of witches?   \n",
       "1                                                                  Where the fuck you get this from?   \n",
       "2                                                         We don't fucking believe you, Yusuf! Fuck!   \n",
       "3                                                                       Shut up or I'll do it again.   \n",
       "4  The list of people you’re allowed to have sex with if you’re ever stuck in an elevator with them.   \n",
       "\n",
       "                                                                                          baseline  \\\n",
       "0                                                           you were love by an oven full of witch   \n",
       "1                                                             where the love you sustain this from   \n",
       "2                                                              we dont love believe you yusuf love   \n",
       "3                                                                    shut up or poorly do it again   \n",
       "4  the list of people you ’ re permit to have sex with if you ’ re ever stick in an lift with them   \n",
       "\n",
       "                                                                 hypothesis1  \\\n",
       "0                             Did you get fucked by the witches in the oven?   \n",
       "1                                                   Where did you find this?   \n",
       "2                                               We don't think you're right.   \n",
       "3                                             I'll do it again if I shut up.   \n",
       "4  The list of people you can have sex with if you are stuck in an elevator.   \n",
       "\n",
       "                                                      hypothesis2  \n",
       "0                   you were thrown into an oven full of witches?  \n",
       "1                                          where do you get this?  \n",
       "2                                    we don't believe you, Yusuf!  \n",
       "3                                  let's go, or I'll do it again.  \n",
       "4  the list of people you can have sex with if you're stuck in an  "
      ]
     },
     "execution_count": 34,
     "metadata": {},
     "output_type": "execute_result"
    }
   ],
   "source": [
    "import numpy as np\n",
    "\n",
    "indexes = np.random.choice(n, 5)\n",
    "pd.set_option('display.max_colwidth', None)\n",
    "\n",
    "dataframe = {'Original': original.iloc[indexes]['reference'].to_list(), 'baseline': list(baseline.iloc[indexes]['Predictions']), 'hypothesis1': list(hypothesis1.iloc[indexes]['Predictions']),'hypothesis2': list(hypothesis2.iloc[indexes]['Predictions'])}\n",
    "dataframe = pd.DataFrame(dataframe)\n",
    "dataframe"
   ]
  }
 ],
 "metadata": {
  "kernelspec": {
   "display_name": "Python 3",
   "language": "python",
   "name": "python3"
  },
  "language_info": {
   "codemirror_mode": {
    "name": "ipython",
    "version": 3
   },
   "file_extension": ".py",
   "mimetype": "text/x-python",
   "name": "python",
   "nbconvert_exporter": "python",
   "pygments_lexer": "ipython3",
   "version": "3.9.13"
  }
 },
 "nbformat": 4,
 "nbformat_minor": 2
}
