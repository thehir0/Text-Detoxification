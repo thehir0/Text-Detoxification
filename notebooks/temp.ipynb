{
 "cells": [
  {
   "cell_type": "code",
   "execution_count": 1,
   "metadata": {},
   "outputs": [
    {
     "data": {
      "text/plain": [
       "'cuda'"
      ]
     },
     "execution_count": 1,
     "metadata": {},
     "output_type": "execute_result"
    }
   ],
   "source": [
    "import pandas as pd\n",
    "import torch\n",
    "import numpy as np\n",
    "from tqdm import tqdm\n",
    "import warnings\n",
    "import sys\n",
    "sys.path.insert(0, '..')\n",
    "from src.metric.metric import calculate_metric\n",
    "\n",
    "warnings.filterwarnings(\"ignore\")\n",
    "device = 'cuda' if torch.cuda.is_available() else 'cpu'\n",
    "device"
   ]
  },
  {
   "cell_type": "markdown",
   "metadata": {},
   "source": [
    "Classificator"
   ]
  },
  {
   "cell_type": "code",
   "execution_count": 2,
   "metadata": {},
   "outputs": [
    {
     "data": {
      "text/plain": [
       "[0.0004102117964066565, 0.974835991859436]"
      ]
     },
     "execution_count": 2,
     "metadata": {},
     "output_type": "execute_result"
    }
   ],
   "source": [
    "from detoxify import Detoxify\n",
    "classificator = Detoxify('unbiased')\n",
    "results = classificator.predict(['example text 1','G...! What the fuck?'])\n",
    "results['toxicity']"
   ]
  },
  {
   "cell_type": "markdown",
   "metadata": {},
   "source": [
    "Paraphraser model"
   ]
  },
  {
   "cell_type": "code",
   "execution_count": 3,
   "metadata": {},
   "outputs": [],
   "source": [
    "from transformers import PegasusForConditionalGeneration, PegasusTokenizer\n",
    "model_name = 'tuner007/pegasus_paraphrase'\n",
    "\n",
    "tokenizer = PegasusTokenizer.from_pretrained(model_name)\n",
    "model = PegasusForConditionalGeneration.from_pretrained(model_name).to(device)\n",
    "\n",
    "def get_response(input_text, num_return_sequences=5,num_beams=5):\n",
    "  batch = tokenizer(input_text,truncation=True,padding='longest', return_tensors=\"pt\").to(device)\n",
    "  translated = model.generate(**batch, num_beams=num_beams, num_return_sequences=num_return_sequences, temperature=1.5)\n",
    "  tgt_text = tokenizer.batch_decode(translated, skip_special_tokens=True)\n",
    "  return tgt_text\n"
   ]
  },
  {
   "cell_type": "code",
   "execution_count": 4,
   "metadata": {},
   "outputs": [],
   "source": [
    "def paraphraser(batch_sentence : list, batch_size: int, num_beams=5, num_return_sequences=5) -> list:\n",
    "    paraphrased_variants = get_response(batch_sentence, num_beams=num_beams, num_return_sequences=num_return_sequences)\n",
    "    toxicity = classificator.predict(paraphrased_variants)['toxicity']\n",
    "    \n",
    "    best_paraphrased = []\n",
    "\n",
    "    for batch_start in range(batch_size):\n",
    "        left, right = batch_start * num_return_sequences,  (batch_start + 1) * num_return_sequences\n",
    "\n",
    "        ind = np.argmin(toxicity[left: right])\n",
    "        best_paraphrased.append(paraphrased_variants[left : right][ind])\n",
    "\n",
    "    return best_paraphrased\n"
   ]
  },
  {
   "cell_type": "code",
   "execution_count": 5,
   "metadata": {},
   "outputs": [],
   "source": [
    "from src.data.make_dataset import FilteredDataset\n",
    "from torch.utils.data import DataLoader\n",
    "\n",
    "batch_size = 16\n",
    "test_dataset = FilteredDataset(test=True)\n",
    "test_dataloader = DataLoader(test_dataset, batch_size=batch_size)"
   ]
  },
  {
   "cell_type": "markdown",
   "metadata": {},
   "source": [
    "In previous we classified and paraphrased each word in sentence, now the model, since it seq2seq, it allows us to paraphrased any number of words in sentence, so let’s introduce hyperparameter n - number of words in one token"
   ]
  },
  {
   "cell_type": "code",
   "execution_count": 6,
   "metadata": {},
   "outputs": [],
   "source": [
    "#n-hyperparameter\n",
    "#n-word tokenizer\n",
    "from typing import Union\n",
    "\n",
    "def n_word_tokenizer(sentences: Union[str, list], n=2):\n",
    "    \n",
    "    #add batch\n",
    "    if isinstance(sentences, str):\n",
    "        sentences = [sentences]\n",
    "\n",
    "    batch = []\n",
    "    for sentence in sentences:\n",
    "        splitted = sentence.split()\n",
    "        slices = [splitted[i * n: i * n + n] for i in range((len(splitted)  + n - 1)// n)]\n",
    "        n_sentence = [' '.join(part) for part in slices]\n",
    "        batch.append(n_sentence)\n",
    "    return batch"
   ]
  },
  {
   "cell_type": "code",
   "execution_count": 7,
   "metadata": {},
   "outputs": [
    {
     "data": {
      "text/plain": [
       "[['n_word tokenizer',\n",
       "  'split the',\n",
       "  'sentence into',\n",
       "  'list, where',\n",
       "  'len of',\n",
       "  'each element',\n",
       "  'is <=',\n",
       "  'n']]"
      ]
     },
     "execution_count": 7,
     "metadata": {},
     "output_type": "execute_result"
    }
   ],
   "source": [
    "n_word_tokenizer('n_word tokenizer split the sentence into list, where len of each element is <= n', n=2)"
   ]
  },
  {
   "cell_type": "code",
   "execution_count": 11,
   "metadata": {},
   "outputs": [],
   "source": [
    "#grid search of n\n",
    "#let's take 1000 examples due to lack of perfomance and trying to figure out the best n\n",
    "from torch.utils.data import Subset\n",
    "\n",
    "N_samples = 100\n",
    "num_return_sequences = 2\n",
    "batch_size = 4\n",
    "subset_dataset = Subset(test_dataset, np.arange(N_samples))\n",
    "subset_loader = DataLoader(subset_dataset, batch_size=batch_size)\n"
   ]
  },
  {
   "cell_type": "markdown",
   "metadata": {},
   "source": [
    "Since the number of words in average is 10, so let's grid search n until the half of sentence and take to consideration also the whole sentence"
   ]
  },
  {
   "cell_type": "code",
   "execution_count": 12,
   "metadata": {},
   "outputs": [
    {
     "name": "stderr",
     "output_type": "stream",
     "text": [
      "  0%|          | 0/5 [00:00<?, ?it/s]"
     ]
    },
    {
     "name": "stdout",
     "output_type": "stream",
     "text": [
      "running on cuda\n",
      "Calculating style of predictions\n"
     ]
    },
    {
     "name": "stderr",
     "output_type": "stream",
     "text": [
      "Some weights of the model checkpoint at SkolkovoInstitute/roberta_toxicity_classifier were not used when initializing RobertaForSequenceClassification: ['roberta.pooler.dense.weight', 'roberta.pooler.dense.bias']\n",
      "- This IS expected if you are initializing RobertaForSequenceClassification from the checkpoint of a model trained on another task or with another architecture (e.g. initializing a BertForSequenceClassification model from a BertForPreTraining model).\n",
      "- This IS NOT expected if you are initializing RobertaForSequenceClassification from the checkpoint of a model that you expect to be exactly identical (initializing a BertForSequenceClassification model from a BertForSequenceClassification model).\n",
      "100%|██████████| 4/4 [00:00<00:00, 18.34it/s]\n"
     ]
    },
    {
     "name": "stdout",
     "output_type": "stream",
     "text": [
      "Calculating BLEU similarity\n",
      "Calculating similarity by Wieting subword-embedding SIM model\n"
     ]
    },
    {
     "name": "stderr",
     "output_type": "stream",
     "text": [
      "100%|██████████| 4/4 [00:00<00:00, 153.61it/s]\n"
     ]
    },
    {
     "name": "stdout",
     "output_type": "stream",
     "text": [
      "Calculating CoLA acceptability stats\n"
     ]
    },
    {
     "name": "stderr",
     "output_type": "stream",
     "text": [
      "100%|██████████| 4/4 [00:00<00:00,  4.42it/s]\n",
      " 20%|██        | 1/5 [00:50<03:21, 50.42s/it]"
     ]
    },
    {
     "name": "stdout",
     "output_type": "stream",
     "text": [
      "| ACC | SIM |  FL  |   J   | BLEU |\n",
      "\n",
      "| --- | --- | ---- |  ---  | ---- |\n",
      "\n",
      "|0.7700|0.5691|0.4675|0.2146|0.2616|\n",
      "\n",
      "running on cuda\n",
      "Calculating style of predictions\n"
     ]
    },
    {
     "name": "stderr",
     "output_type": "stream",
     "text": [
      "Some weights of the model checkpoint at SkolkovoInstitute/roberta_toxicity_classifier were not used when initializing RobertaForSequenceClassification: ['roberta.pooler.dense.weight', 'roberta.pooler.dense.bias']\n",
      "- This IS expected if you are initializing RobertaForSequenceClassification from the checkpoint of a model trained on another task or with another architecture (e.g. initializing a BertForSequenceClassification model from a BertForPreTraining model).\n",
      "- This IS NOT expected if you are initializing RobertaForSequenceClassification from the checkpoint of a model that you expect to be exactly identical (initializing a BertForSequenceClassification model from a BertForSequenceClassification model).\n",
      "100%|██████████| 4/4 [00:00<00:00, 10.31it/s]\n"
     ]
    },
    {
     "name": "stdout",
     "output_type": "stream",
     "text": [
      "Calculating BLEU similarity\n",
      "Calculating similarity by Wieting subword-embedding SIM model\n"
     ]
    },
    {
     "name": "stderr",
     "output_type": "stream",
     "text": [
      "100%|██████████| 4/4 [00:00<00:00, 131.00it/s]\n"
     ]
    },
    {
     "name": "stdout",
     "output_type": "stream",
     "text": [
      "Calculating CoLA acceptability stats\n"
     ]
    },
    {
     "name": "stderr",
     "output_type": "stream",
     "text": [
      "100%|██████████| 4/4 [00:00<00:00,  5.67it/s]\n",
      " 40%|████      | 2/5 [01:25<02:03, 41.22s/it]"
     ]
    },
    {
     "name": "stdout",
     "output_type": "stream",
     "text": [
      "| ACC | SIM |  FL  |   J   | BLEU |\n",
      "\n",
      "| --- | --- | ---- |  ---  | ---- |\n",
      "\n",
      "|0.8400|0.6178|0.6439|0.3445|0.3379|\n",
      "\n",
      "running on cuda\n",
      "Calculating style of predictions\n"
     ]
    },
    {
     "name": "stderr",
     "output_type": "stream",
     "text": [
      "Some weights of the model checkpoint at SkolkovoInstitute/roberta_toxicity_classifier were not used when initializing RobertaForSequenceClassification: ['roberta.pooler.dense.weight', 'roberta.pooler.dense.bias']\n",
      "- This IS expected if you are initializing RobertaForSequenceClassification from the checkpoint of a model trained on another task or with another architecture (e.g. initializing a BertForSequenceClassification model from a BertForPreTraining model).\n",
      "- This IS NOT expected if you are initializing RobertaForSequenceClassification from the checkpoint of a model that you expect to be exactly identical (initializing a BertForSequenceClassification model from a BertForSequenceClassification model).\n",
      "100%|██████████| 4/4 [00:00<00:00, 14.35it/s]\n"
     ]
    },
    {
     "name": "stdout",
     "output_type": "stream",
     "text": [
      "Calculating BLEU similarity\n",
      "Calculating similarity by Wieting subword-embedding SIM model\n"
     ]
    },
    {
     "name": "stderr",
     "output_type": "stream",
     "text": [
      "100%|██████████| 4/4 [00:00<00:00, 132.73it/s]\n"
     ]
    },
    {
     "name": "stdout",
     "output_type": "stream",
     "text": [
      "Calculating CoLA acceptability stats\n"
     ]
    },
    {
     "name": "stderr",
     "output_type": "stream",
     "text": [
      "100%|██████████| 4/4 [00:00<00:00,  6.64it/s]\n",
      " 60%|██████    | 3/5 [02:00<01:16, 38.48s/it]"
     ]
    },
    {
     "name": "stdout",
     "output_type": "stream",
     "text": [
      "| ACC | SIM |  FL  |   J   | BLEU |\n",
      "\n",
      "| --- | --- | ---- |  ---  | ---- |\n",
      "\n",
      "|0.8200|0.6199|0.6588|0.3406|0.3561|\n",
      "\n",
      "running on cuda\n",
      "Calculating style of predictions\n"
     ]
    },
    {
     "name": "stderr",
     "output_type": "stream",
     "text": [
      "Some weights of the model checkpoint at SkolkovoInstitute/roberta_toxicity_classifier were not used when initializing RobertaForSequenceClassification: ['roberta.pooler.dense.weight', 'roberta.pooler.dense.bias']\n",
      "- This IS expected if you are initializing RobertaForSequenceClassification from the checkpoint of a model trained on another task or with another architecture (e.g. initializing a BertForSequenceClassification model from a BertForPreTraining model).\n",
      "- This IS NOT expected if you are initializing RobertaForSequenceClassification from the checkpoint of a model that you expect to be exactly identical (initializing a BertForSequenceClassification model from a BertForSequenceClassification model).\n",
      "100%|██████████| 4/4 [00:00<00:00, 23.01it/s]\n"
     ]
    },
    {
     "name": "stdout",
     "output_type": "stream",
     "text": [
      "Calculating BLEU similarity\n",
      "Calculating similarity by Wieting subword-embedding SIM model\n"
     ]
    },
    {
     "name": "stderr",
     "output_type": "stream",
     "text": [
      "100%|██████████| 4/4 [00:00<00:00, 163.63it/s]\n"
     ]
    },
    {
     "name": "stdout",
     "output_type": "stream",
     "text": [
      "Calculating CoLA acceptability stats\n"
     ]
    },
    {
     "name": "stderr",
     "output_type": "stream",
     "text": [
      "100%|██████████| 4/4 [00:00<00:00,  6.67it/s]\n",
      " 80%|████████  | 4/5 [02:35<00:37, 37.22s/it]"
     ]
    },
    {
     "name": "stdout",
     "output_type": "stream",
     "text": [
      "| ACC | SIM |  FL  |   J   | BLEU |\n",
      "\n",
      "| --- | --- | ---- |  ---  | ---- |\n",
      "\n",
      "|0.8300|0.6080|0.7444|0.3779|0.3768|\n",
      "\n",
      "running on cuda\n",
      "Calculating style of predictions\n"
     ]
    },
    {
     "name": "stderr",
     "output_type": "stream",
     "text": [
      "Some weights of the model checkpoint at SkolkovoInstitute/roberta_toxicity_classifier were not used when initializing RobertaForSequenceClassification: ['roberta.pooler.dense.weight', 'roberta.pooler.dense.bias']\n",
      "- This IS expected if you are initializing RobertaForSequenceClassification from the checkpoint of a model trained on another task or with another architecture (e.g. initializing a BertForSequenceClassification model from a BertForPreTraining model).\n",
      "- This IS NOT expected if you are initializing RobertaForSequenceClassification from the checkpoint of a model that you expect to be exactly identical (initializing a BertForSequenceClassification model from a BertForSequenceClassification model).\n",
      "100%|██████████| 4/4 [00:00<00:00, 13.78it/s]\n"
     ]
    },
    {
     "name": "stdout",
     "output_type": "stream",
     "text": [
      "Calculating BLEU similarity\n",
      "Calculating similarity by Wieting subword-embedding SIM model\n"
     ]
    },
    {
     "name": "stderr",
     "output_type": "stream",
     "text": [
      "100%|██████████| 4/4 [00:00<00:00, 169.54it/s]\n"
     ]
    },
    {
     "name": "stdout",
     "output_type": "stream",
     "text": [
      "Calculating CoLA acceptability stats\n"
     ]
    },
    {
     "name": "stderr",
     "output_type": "stream",
     "text": [
      "100%|██████████| 4/4 [00:00<00:00,  8.77it/s]\n",
      "100%|██████████| 5/5 [03:06<00:00, 37.32s/it]"
     ]
    },
    {
     "name": "stdout",
     "output_type": "stream",
     "text": [
      "| ACC | SIM |  FL  |   J   | BLEU |\n",
      "\n",
      "| --- | --- | ---- |  ---  | ---- |\n",
      "\n",
      "|0.8000|0.6742|0.9407|0.5072|0.4265|\n",
      "\n"
     ]
    },
    {
     "name": "stderr",
     "output_type": "stream",
     "text": [
      "\n"
     ]
    }
   ],
   "source": [
    "max_number_of_words = 300\n",
    "n_params = [2, 3, 4, 5, max_number_of_words]\n",
    "dict_metrics = {'ACC': [], 'SIM': [], 'FL': [], 'J': [], 'BLUE':[]}\n",
    "\n",
    "for n in tqdm(n_params):\n",
    "    outputs = []\n",
    "    target = []\n",
    "\n",
    "    for batch, y_true in subset_loader:\n",
    "        tokenized = n_word_tokenizer(batch, n)\n",
    "        offset = [len(x) for x in tokenized]\n",
    "        offset = [sum(offset[:i]) for i in range(len(offset) + 1)]\n",
    "        tokenized = np.concatenate(tokenized)\n",
    "        paraphrased = paraphraser(list(tokenized), len(tokenized))\n",
    "        collected_batch = [' '.join(paraphrased[offset[i]: offset[i + 1]]) for i in range(len(offset) - 1)]\n",
    "        \n",
    "        outputs += collected_batch\n",
    "        target += y_true\n",
    "    \n",
    "    metrics = calculate_metric(target, outputs)\n",
    "    for key in metrics:\n",
    "        dict_metrics[key].append(metrics[key])\n",
    "\n"
   ]
  },
  {
   "cell_type": "code",
   "execution_count": 13,
   "metadata": {},
   "outputs": [
    {
     "data": {
      "image/png": "[encoded data removed]",
      "text/plain": [
       "<Figure size 1500x500 with 5 Axes>"
      ]
     },
     "metadata": {},
     "output_type": "display_data"
    }
   ],
   "source": [
    "import matplotlib.pyplot as plt\n",
    "fig, axs = plt.subplots(1, len(dict_metrics), figsize=(15, 5))\n",
    "x = [2, 3, 4, 5, 6]\n",
    "#6 - the whole sentence\n",
    "for i, (metric, values) in enumerate(dict_metrics.items()):\n",
    "    axs[i].plot(x, np.round(values, 2))\n",
    "    axs[i].set_title(metric)\n",
    "    axs[i].set_xlabel('x values')\n",
    "    axs[i].set_ylabel(metric)\n",
    "\n",
    "plt.tight_layout()\n",
    "plt.show()"
   ]
  },
  {
   "cell_type": "code",
   "execution_count": null,
   "metadata": {},
   "outputs": [],
   "source": []
  }
 ],
 "metadata": {
  "kernelspec": {
   "display_name": "Python 3",
   "language": "python",
   "name": "python3"
  },
  "language_info": {
   "codemirror_mode": {
    "name": "ipython",
    "version": 3
   },
   "file_extension": ".py",
   "mimetype": "text/x-python",
   "name": "python",
   "nbconvert_exporter": "python",
   "pygments_lexer": "ipython3",
   "version": "3.9.13"
  }
 },
 "nbformat": 4,
 "nbformat_minor": 2
}
