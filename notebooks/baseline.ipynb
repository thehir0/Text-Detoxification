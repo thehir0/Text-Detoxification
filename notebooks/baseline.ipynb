{
 "cells": [
  {
   "cell_type": "markdown",
   "metadata": {},
   "source": [
    "### **Baseline Hypothesis:**\n",
    "#### **Building a Toxicity Classifier and substituting toxic words with synonyms from NLTK Lesk**\n",
    "For our classifier, we will use logistic regression model. We will train this model to distinguish between toxic and non-toxic words. \n",
    "\n",
    "To accomplish this, we will use the following dataset for our baseline classifier:"
   ]
  },
  {
   "cell_type": "code",
   "execution_count": 17,
   "metadata": {},
   "outputs": [
    {
     "name": "stdout",
     "output_type": "stream",
     "text": [
      "<class 'pandas.core.frame.DataFrame'>\n",
      "Int64Index: 24645 entries, 0 to 24644\n",
      "Data columns (total 2 columns):\n",
      " #   Column  Non-Null Count  Dtype \n",
      "---  ------  --------------  ----- \n",
      " 0   word    24640 non-null  object\n",
      " 1   target  24645 non-null  object\n",
      "dtypes: object(2)\n",
      "memory usage: 577.6+ KB\n"
     ]
    }
   ],
   "source": [
    "import pandas as pd\n",
    "import sys\n",
    "sys.path.insert(0, '..')\n",
    "data = pd.read_csv('../data/interim/words.csv', index_col=0)\n",
    "data.info()"
   ]
  },
  {
   "cell_type": "code",
   "execution_count": 18,
   "metadata": {},
   "outputs": [
    {
     "name": "stdout",
     "output_type": "stream",
     "text": [
      "Number of words in dataset: 24645\n",
      "Unique words in dataset: 12670\n",
      "Nulls: 5\n"
     ]
    }
   ],
   "source": [
    "print(f'Number of words in dataset: {len(data)}')\n",
    "print(f'Unique words in dataset: {len(data[\"word\"].unique())}')\n",
    "print(f'Nulls: {data[\"word\"].isna().sum()}')"
   ]
  },
  {
   "cell_type": "markdown",
   "metadata": {},
   "source": [
    "Drop rows without words and duplicate rows"
   ]
  },
  {
   "cell_type": "code",
   "execution_count": 19,
   "metadata": {},
   "outputs": [],
   "source": [
    "data = data.dropna(subset=['word'])\n",
    "data = data.drop_duplicates()"
   ]
  },
  {
   "cell_type": "markdown",
   "metadata": {},
   "source": [
    "Same Words can be both negative and positive meanings based on context, which is why we categorize them as \"Negative\" to prevent False Positive identifications. This approach can enhance precision scores but may result in a decrease in recall, as it could lead to more instances of False Negatives. For our specific task, this is not particularly crucial, as we have the option to substitute positive words with alternative positive terms.\n",
    "\n",
    "![Alt text](https://www.researchgate.net/publication/336402347/figure/fig3/AS:812472659349505@1570719985505/Calculation-of-Precision-Recall-and-Accuracy-in-the-confusion-matrix.ppm \"a title\")\n"
   ]
  },
  {
   "cell_type": "code",
   "execution_count": 20,
   "metadata": {},
   "outputs": [],
   "source": [
    "data.loc[data['word'].duplicated(keep=False), 'target'] = 'Negative'\n",
    "data = data.drop_duplicates()"
   ]
  },
  {
   "cell_type": "code",
   "execution_count": 21,
   "metadata": {},
   "outputs": [
    {
     "name": "stdout",
     "output_type": "stream",
     "text": [
      "Number of words in dataset: 12669\n",
      "Unique words in dataset: 12669\n",
      "Nulls: 0\n"
     ]
    }
   ],
   "source": [
    "print(f'Number of words in dataset: {len(data)}')\n",
    "print(f'Unique words in dataset: {len(data[\"word\"].unique())}')\n",
    "print(f'Nulls: {data[\"word\"].isna().sum()}')"
   ]
  },
  {
   "cell_type": "markdown",
   "metadata": {},
   "source": [
    "Let's see the distribution of target value"
   ]
  },
  {
   "cell_type": "code",
   "execution_count": 22,
   "metadata": {},
   "outputs": [
    {
     "data": {
      "text/plain": [
       "<BarContainer object of 2 artists>"
      ]
     },
     "execution_count": 22,
     "metadata": {},
     "output_type": "execute_result"
    },
    {
     "data": {
      "image/png": "[encoded data removed]",
      "text/plain": [
       "<Figure size 640x480 with 1 Axes>"
      ]
     },
     "metadata": {},
     "output_type": "display_data"
    }
   ],
   "source": [
    "import matplotlib.pyplot as plt\n",
    "target_counts = data['target'].value_counts()\n",
    "target_counts.sort_index()\n",
    "plt.bar(target_counts.index, target_counts.values)"
   ]
  },
  {
   "cell_type": "code",
   "execution_count": 23,
   "metadata": {},
   "outputs": [],
   "source": [
    "data['target'] = data['target'].replace({'Positive': 0, 'Negative': 1})\n",
    "X_train, y_train = data['word'], data['target']"
   ]
  },
  {
   "cell_type": "markdown",
   "metadata": {},
   "source": [
    "#### **Simple preprocessing**:\n",
    "1. Convert all characters to lowercase.\n",
    "2. Remove punctuation marks\n",
    "3. Tokenize the text"
   ]
  },
  {
   "cell_type": "code",
   "execution_count": 24,
   "metadata": {},
   "outputs": [
    {
     "data": {
      "text/plain": [
       "Pipeline(steps=[('preprocessor',\n",
       "                 FunctionTransformer(func=<function Preprocessor at 0x00000154BA5EC700>)),\n",
       "                ('vectorizer', CountVectorizer()),\n",
       "                ('classifier', LogisticRegression())])"
      ]
     },
     "execution_count": 24,
     "metadata": {},
     "output_type": "execute_result"
    }
   ],
   "source": [
    "from sklearn.pipeline import Pipeline\n",
    "from sklearn.feature_extraction.text import CountVectorizer\n",
    "from sklearn.linear_model import LogisticRegression\n",
    "from sklearn.preprocessing import FunctionTransformer\n",
    "import string\n",
    "from nltk.tokenize import word_tokenize\n",
    "\n",
    "def Preprocessor(text):\n",
    "    \n",
    "    if isinstance(text, list):\n",
    "        text = pd.Series(text)\n",
    "\n",
    "    if isinstance(text, pd.core.series.Series):\n",
    "        return text.str.lower().str.strip()\n",
    "    elif isinstance(text, str):\n",
    "        text = text.translate(str.maketrans('', '', string.punctuation))\n",
    "        text = text.lower()\n",
    "        tokenized = word_tokenize(text)\n",
    "        return tokenized\n",
    "\n",
    "\n",
    "classificator = Pipeline([\n",
    "    ('preprocessor', FunctionTransformer(func=Preprocessor)),\n",
    "    ('vectorizer', CountVectorizer()),\n",
    "    ('classifier', LogisticRegression())\n",
    "])\n",
    "\n",
    "classificator.fit(X_train, y_train)"
   ]
  },
  {
   "cell_type": "markdown",
   "metadata": {},
   "source": [
    "#### **Lesk Algorithm**\n",
    "\n",
    "Performs the classic Lesk algorithm for Word Sense Disambiguation (WSD) using the definitions of the ambiguous word.\n",
    "\n",
    "Given an ambiguous word and the context in which the word occurs, Lesk returns a Synset, or a set of synonymous words, that exhibits the most substantial overlap with the words found in the context sentence.\n"
   ]
  },
  {
   "cell_type": "code",
   "execution_count": 25,
   "metadata": {},
   "outputs": [
    {
     "name": "stderr",
     "output_type": "stream",
     "text": [
      "[nltk_data] Downloading package punkt to\n",
      "[nltk_data]     C:\\Users\\hir0\\AppData\\Roaming\\nltk_data...\n",
      "[nltk_data]   Package punkt is already up-to-date!\n",
      "[nltk_data] Downloading package stopwords to\n",
      "[nltk_data]     C:\\Users\\hir0\\AppData\\Roaming\\nltk_data...\n",
      "[nltk_data]   Package stopwords is already up-to-date!\n"
     ]
    }
   ],
   "source": [
    "from nltk.wsd import lesk\n",
    "import nltk\n",
    "from nltk.corpus import stopwords\n",
    "import numpy as np\n",
    "\n",
    "nltk.download('punkt')\n",
    "nltk.download('stopwords')\n",
    "\n",
    "\n",
    "def paraphraser(sentence):\n",
    "    stop_words = set(stopwords.words('english'))\n",
    "\n",
    "    def get_synonym_by_context(word, context_sentence):\n",
    "\n",
    "        sense = lesk(context_sentence, word)\n",
    "        synonyms = []\n",
    "        if sense:\n",
    "            for lemma in sense.lemmas():\n",
    "                synonyms.append(lemma.name().replace('_', ' '))\n",
    "\n",
    "        # Remove duplicates and display the closest synonym\n",
    "        synonyms = list(set(synonyms))\n",
    "        if len(synonyms) == 0:\n",
    "            synonyms.append(word)\n",
    "        #rearrange synonyms by they toxicity\n",
    "        synonyms = sorted([(synonym, classificator.predict_proba(synonym)[0, 1]) for synonym in synonyms], key= lambda x: x[1])\n",
    "        return synonyms[0][0]\n",
    "\n",
    "    tokenized = Preprocessor(sentence)\n",
    "    predictions = classificator.predict(tokenized)\n",
    "    mask = np.array([0 if word in stop_words else 1 for word in tokenized])\n",
    "    predictions = predictions * mask\n",
    "    assert len(predictions) == len(tokenized)\n",
    "    paraphrased = [get_synonym_by_context(word, sentence) if predictions[i] == 1 else word for i, word in enumerate(tokenized)]\n",
    "    return ' '.join(paraphrased)\n"
   ]
  },
  {
   "cell_type": "code",
   "execution_count": 26,
   "metadata": {},
   "outputs": [],
   "source": [
    "detox_data = pd.read_csv('../data/interim/test_filtered.csv')"
   ]
  },
  {
   "cell_type": "code",
   "execution_count": 27,
   "metadata": {},
   "outputs": [
    {
     "name": "stdout",
     "output_type": "stream",
     "text": [
      "Oh, Grace, don't be ridiculous.\n",
      "Pred: OH grace dont be silly\n",
      "True: grace, don't be crazy!\n"
     ]
    }
   ],
   "source": [
    "X, y_true = detox_data['reference'].values, detox_data['translation'].values\n",
    "\n",
    "print(X[1])\n",
    "print(f'Pred: {paraphraser(X[1])}\\nTrue: {y_true[1]}')"
   ]
  },
  {
   "cell_type": "code",
   "execution_count": null,
   "metadata": {},
   "outputs": [],
   "source": [
    "predictions_baseline = pd.DataFrame({'Predictions': [paraphraser(sentence) for sentence in X]})\n",
    "predictions_baseline.to_csv('../data/interim/baseline_predictions.csv')"
   ]
  },
  {
   "cell_type": "code",
   "execution_count": 29,
   "metadata": {},
   "outputs": [
    {
     "data": {
      "text/plain": [
       "['hot doll are starfuckers in coeur dalene',\n",
       " 'Buckeye State grace dont be pathetic',\n",
       " 'ii love yo sister',\n",
       " \"next time you make up one's mind to take a bath private permit me know or poorly kick your ass\",\n",
       " 'i in the end catch you you marked-up']"
      ]
     },
     "execution_count": 29,
     "metadata": {},
     "output_type": "execute_result"
    }
   ],
   "source": [
    "predictions_baseline = pd.read_csv('../data/interim/baseline_predictions.csv', index_col=0)\n",
    "predictions_baseline = list(predictions_baseline['Predictions'].values)\n",
    "predictions_baseline[:5]"
   ]
  },
  {
   "cell_type": "code",
   "execution_count": 30,
   "metadata": {},
   "outputs": [
    {
     "name": "stdout",
     "output_type": "stream",
     "text": [
      "running on cuda\n",
      "Calculating style of predictions\n"
     ]
    },
    {
     "name": "stderr",
     "output_type": "stream",
     "text": [
      "Some weights of the model checkpoint at SkolkovoInstitute/roberta_toxicity_classifier were not used when initializing RobertaForSequenceClassification: ['roberta.pooler.dense.weight', 'roberta.pooler.dense.bias']\n",
      "- This IS expected if you are initializing RobertaForSequenceClassification from the checkpoint of a model trained on another task or with another architecture (e.g. initializing a BertForSequenceClassification model from a BertForPreTraining model).\n",
      "- This IS NOT expected if you are initializing RobertaForSequenceClassification from the checkpoint of a model that you expect to be exactly identical (initializing a BertForSequenceClassification model from a BertForSequenceClassification model).\n",
      "100%|██████████| 518/518 [00:21<00:00, 24.53it/s]\n"
     ]
    },
    {
     "name": "stdout",
     "output_type": "stream",
     "text": [
      "Calculating BLEU similarity\n"
     ]
    },
    {
     "name": "stderr",
     "output_type": "stream",
     "text": [
      "c:\\Users\\hir0\\anaconda3\\lib\\site-packages\\nltk\\translate\\bleu_score.py:552: UserWarning: \n",
      "The hypothesis contains 0 counts of 4-gram overlaps.\n",
      "Therefore the BLEU score evaluates to 0, independently of\n",
      "how many N-gram overlaps of lower order it contains.\n",
      "Consider using lower n-gram order or use SmoothingFunction()\n",
      "  warnings.warn(_msg)\n",
      "c:\\Users\\hir0\\anaconda3\\lib\\site-packages\\nltk\\translate\\bleu_score.py:552: UserWarning: \n",
      "The hypothesis contains 0 counts of 3-gram overlaps.\n",
      "Therefore the BLEU score evaluates to 0, independently of\n",
      "how many N-gram overlaps of lower order it contains.\n",
      "Consider using lower n-gram order or use SmoothingFunction()\n",
      "  warnings.warn(_msg)\n",
      "c:\\Users\\hir0\\anaconda3\\lib\\site-packages\\nltk\\translate\\bleu_score.py:552: UserWarning: \n",
      "The hypothesis contains 0 counts of 2-gram overlaps.\n",
      "Therefore the BLEU score evaluates to 0, independently of\n",
      "how many N-gram overlaps of lower order it contains.\n",
      "Consider using lower n-gram order or use SmoothingFunction()\n",
      "  warnings.warn(_msg)\n"
     ]
    },
    {
     "name": "stdout",
     "output_type": "stream",
     "text": [
      "Calculating similarity by Wieting subword-embedding SIM model\n"
     ]
    },
    {
     "name": "stderr",
     "output_type": "stream",
     "text": [
      "100%|██████████| 518/518 [00:03<00:00, 131.47it/s]\n"
     ]
    },
    {
     "name": "stdout",
     "output_type": "stream",
     "text": [
      "Calculating CoLA acceptability stats\n"
     ]
    },
    {
     "name": "stderr",
     "output_type": "stream",
     "text": [
      "100%|██████████| 518/518 [01:01<00:00,  8.41it/s]\n"
     ]
    },
    {
     "name": "stdout",
     "output_type": "stream",
     "text": [
      "| ACC | SIM |  FL  |   J   | BLEU |\n",
      "\n",
      "| --- | --- | ---- |  ---  | ---- |\n",
      "\n",
      "|0.5798|0.5306|0.6789|0.2075|0.3868|\n",
      "\n"
     ]
    },
    {
     "data": {
      "text/plain": [
       "{'ACC': 0.5797994442430833,\n",
       " 'SIM': 0.530569537372181,\n",
       " 'FL': 0.678929563851637,\n",
       " 'J': 0.2074788008575805,\n",
       " 'BLUE': 0.3868392437524953}"
      ]
     },
     "execution_count": 30,
     "metadata": {},
     "output_type": "execute_result"
    }
   ],
   "source": [
    "from src.metric.metric import calculate_metric\n",
    "calculate_metric(y_true, predictions_baseline)"
   ]
  },
  {
   "cell_type": "code",
   "execution_count": null,
   "metadata": {},
   "outputs": [],
   "source": []
  }
 ],
 "metadata": {
  "kernelspec": {
   "display_name": "Python 3",
   "language": "python",
   "name": "python3"
  },
  "language_info": {
   "codemirror_mode": {
    "name": "ipython",
    "version": 3
   },
   "file_extension": ".py",
   "mimetype": "text/x-python",
   "name": "python",
   "nbconvert_exporter": "python",
   "pygments_lexer": "ipython3",
   "version": "3.9.13"
  }
 },
 "nbformat": 4,
 "nbformat_minor": 2
}
