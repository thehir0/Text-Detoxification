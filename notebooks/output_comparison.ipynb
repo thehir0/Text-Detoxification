{
 "cells": [
  {
   "cell_type": "code",
   "execution_count": 2,
   "metadata": {},
   "outputs": [],
   "source": [
    "import pandas as pd\n",
    "\n",
    "original = pd.read_csv('../data/interim/test_filtered.csv', index_col=0)\n",
    "baseline = pd.read_csv('../data/interim/baseline_predictions.csv', index_col=0)\n",
    "hypothesis1 = pd.read_csv('../data/interim/hypothesis1_predictions.csv', index_col=0)\n",
    "hypothesis2 = pd.read_csv('../data/interim/hypothesis2_predictions.csv', index_col=0)\n",
    "hypothesis3 = pd.read_csv('../data/interim/hypothesis3_predictions.csv', index_col=0)\n",
    "n = len(baseline)"
   ]
  },
  {
   "cell_type": "code",
   "execution_count": 6,
   "metadata": {},
   "outputs": [
    {
     "data": {
      "text/html": [
       "<div>\n",
       "<style scoped>\n",
       "    .dataframe tbody tr th:only-of-type {\n",
       "        vertical-align: middle;\n",
       "    }\n",
       "\n",
       "    .dataframe tbody tr th {\n",
       "        vertical-align: top;\n",
       "    }\n",
       "\n",
       "    .dataframe thead th {\n",
       "        text-align: right;\n",
       "    }\n",
       "</style>\n",
       "<table border=\"1\" class=\"dataframe\">\n",
       "  <thead>\n",
       "    <tr style=\"text-align: right;\">\n",
       "      <th></th>\n",
       "      <th>Original</th>\n",
       "      <th>baseline</th>\n",
       "      <th>hypothesis1</th>\n",
       "      <th>hypothesis2</th>\n",
       "      <th>hypothesis3</th>\n",
       "    </tr>\n",
       "  </thead>\n",
       "  <tbody>\n",
       "    <tr>\n",
       "      <th>0</th>\n",
       "      <td>Don’t worry, I'm not gonna punch him in the nose</td>\n",
       "      <td>don ’ t trouble im not gon atomic number 11 perforate him in the nozzle</td>\n",
       "      <td>Don't worry, I won't hit him in the nose.</td>\n",
       "      <td>don't worry, I'm not gonna hit him in the nose.</td>\n",
       "      <td>don't worry, I'm not going to punch him in the nose.</td>\n",
       "    </tr>\n",
       "    <tr>\n",
       "      <th>1</th>\n",
       "      <td>That ungrateful girl will break your heart!\"</td>\n",
       "      <td>that ungrateful lady friend will reveal your heart</td>\n",
       "      <td>The girl will break your heart.</td>\n",
       "      <td>the ungrateful girl will break your heart! \"</td>\n",
       "      <td>this ungrateful girl will break your heart! \"</td>\n",
       "    </tr>\n",
       "    <tr>\n",
       "      <th>2</th>\n",
       "      <td>Some freak just sent me this.</td>\n",
       "      <td>some lusus naturae just send me this</td>\n",
       "      <td>Someone just sent me this.</td>\n",
       "      <td>someone sent me this.</td>\n",
       "      <td>a freak sent me this.</td>\n",
       "    </tr>\n",
       "    <tr>\n",
       "      <th>3</th>\n",
       "      <td>I just want a glass of water. Oh, shit!</td>\n",
       "      <td>i just want a glass of water supply Buckeye State take a crap</td>\n",
       "      <td>I just want a drink of water.</td>\n",
       "      <td>I just want a glass of water.</td>\n",
       "      <td>I just want a glass of water.</td>\n",
       "    </tr>\n",
       "    <tr>\n",
       "      <th>4</th>\n",
       "      <td>Steven stayed with jackie, but you went off and gave my funnel cake to those whores.</td>\n",
       "      <td>steven stay with jackie but you go off and give my funnel cake to those whore</td>\n",
       "      <td>Steven stayed with jackie, but you gave him my funnel cake.</td>\n",
       "      <td>Steven stayed with Jackie, but you left and gave me a funnel cake.</td>\n",
       "      <td>Steven stayed with jackie, but you went off and gave me a cake</td>\n",
       "    </tr>\n",
       "  </tbody>\n",
       "</table>\n",
       "</div>"
      ],
      "text/plain": [
       "                                                                               Original  \\\n",
       "0                                      Don’t worry, I'm not gonna punch him in the nose   \n",
       "1                                          That ungrateful girl will break your heart!\"   \n",
       "2                                                         Some freak just sent me this.   \n",
       "3                                               I just want a glass of water. Oh, shit!   \n",
       "4  Steven stayed with jackie, but you went off and gave my funnel cake to those whores.   \n",
       "\n",
       "                                                                        baseline  \\\n",
       "0        don ’ t trouble im not gon atomic number 11 perforate him in the nozzle   \n",
       "1                             that ungrateful lady friend will reveal your heart   \n",
       "2                                           some lusus naturae just send me this   \n",
       "3                  i just want a glass of water supply Buckeye State take a crap   \n",
       "4  steven stay with jackie but you go off and give my funnel cake to those whore   \n",
       "\n",
       "                                                   hypothesis1  \\\n",
       "0                    Don't worry, I won't hit him in the nose.   \n",
       "1                              The girl will break your heart.   \n",
       "2                                   Someone just sent me this.   \n",
       "3                                I just want a drink of water.   \n",
       "4  Steven stayed with jackie, but you gave him my funnel cake.   \n",
       "\n",
       "                                                          hypothesis2  \\\n",
       "0                     don't worry, I'm not gonna hit him in the nose.   \n",
       "1                        the ungrateful girl will break your heart! \"   \n",
       "2                                               someone sent me this.   \n",
       "3                                       I just want a glass of water.   \n",
       "4  Steven stayed with Jackie, but you left and gave me a funnel cake.   \n",
       "\n",
       "                                                      hypothesis3  \n",
       "0            don't worry, I'm not going to punch him in the nose.  \n",
       "1                   this ungrateful girl will break your heart! \"  \n",
       "2                                           a freak sent me this.  \n",
       "3                                   I just want a glass of water.  \n",
       "4  Steven stayed with jackie, but you went off and gave me a cake  "
      ]
     },
     "execution_count": 6,
     "metadata": {},
     "output_type": "execute_result"
    }
   ],
   "source": [
    "import numpy as np\n",
    "\n",
    "indexes = np.random.choice(n, 5)\n",
    "pd.set_option('display.max_colwidth', None)\n",
    "\n",
    "dataframe = {'Original': original.iloc[indexes]['reference'].to_list(), 'baseline': list(baseline.iloc[indexes]['Predictions']),\n",
    "              'hypothesis1': list(hypothesis1.iloc[indexes]['Predictions']),'hypothesis2': list(hypothesis2.iloc[indexes]['Predictions']),\n",
    "              'hypothesis3': hypothesis3.iloc[indexes]['Predictions'].to_list()}\n",
    "dataframe = pd.DataFrame(dataframe)\n",
    "dataframe"
   ]
  },
  {
   "cell_type": "code",
   "execution_count": 1,
   "metadata": {},
   "outputs": [
    {
     "name": "stdout",
     "output_type": "stream",
     "text": [
      "Note: you may need to restart the kernel to use updated packages.\n"
     ]
    },
    {
     "name": "stderr",
     "output_type": "stream",
     "text": [
      "WARNING: Ignoring invalid distribution -rotobuf (c:\\users\\hir0\\anaconda3\\lib\\site-packages)\n"
     ]
    }
   ],
   "source": [
    "pip freeze > requirements.txt\n"
   ]
  }
 ],
 "metadata": {
  "kernelspec": {
   "display_name": "Python 3",
   "language": "python",
   "name": "python3"
  },
  "language_info": {
   "codemirror_mode": {
    "name": "ipython",
    "version": 3
   },
   "file_extension": ".py",
   "mimetype": "text/x-python",
   "name": "python",
   "nbconvert_exporter": "python",
   "pygments_lexer": "ipython3",
   "version": "3.9.13"
  }
 },
 "nbformat": 4,
 "nbformat_minor": 2
}
