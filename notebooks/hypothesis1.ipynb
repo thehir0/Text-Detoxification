{
 "cells": [
  {
   "cell_type": "code",
   "execution_count": 1,
   "metadata": {},
   "outputs": [
    {
     "data": {
      "text/plain": [
       "'cuda'"
      ]
     },
     "execution_count": 1,
     "metadata": {},
     "output_type": "execute_result"
    }
   ],
   "source": [
    "import pandas as pd\n",
    "import torch\n",
    "import numpy as np\n",
    "from tqdm import tqdm\n",
    "import warnings\n",
    "import sys\n",
    "sys.path.insert(0, '..')\n",
    "from src.metric.metric import calculate_metric\n",
    "\n",
    "warnings.filterwarnings(\"ignore\")\n",
    "device = 'cuda' if torch.cuda.is_available() else 'cpu'\n",
    "device"
   ]
  },
  {
   "cell_type": "markdown",
   "metadata": {},
   "source": [
    "**Toxic Word Classifier**\n",
    "\n",
    "roberta-base pre-trained on Jigsaw Unintended Bias in Toxicity Classification\n"
   ]
  },
  {
   "cell_type": "code",
   "execution_count": 2,
   "metadata": {},
   "outputs": [
    {
     "data": {
      "text/plain": [
       "[0.0004102117964066565, 0.974835991859436]"
      ]
     },
     "execution_count": 2,
     "metadata": {},
     "output_type": "execute_result"
    }
   ],
   "source": [
    "from detoxify import Detoxify\n",
    "classificator = Detoxify('unbiased')\n",
    "results = classificator.predict(['example text 1','G...! What the fuck?'])\n",
    "results['toxicity']"
   ]
  },
  {
   "cell_type": "markdown",
   "metadata": {},
   "source": [
    "**Paraphraser model**\n",
    "\n",
    "PEGASUS or Pre-training with Extracted Gap-sentences for Abstractive SUmmarization Sequence-to-sequence models, fine-tuned for paraphrasing. It uses self-supervised objective Gap Sentences Generation (GSG) to train a transformer encoder-decoder model. "
   ]
  },
  {
   "cell_type": "code",
   "execution_count": 3,
   "metadata": {},
   "outputs": [],
   "source": [
    "from transformers import PegasusForConditionalGeneration, PegasusTokenizer\n",
    "model_name = 'tuner007/pegasus_paraphrase'\n",
    "\n",
    "tokenizer = PegasusTokenizer.from_pretrained(model_name)\n",
    "model = PegasusForConditionalGeneration.from_pretrained(model_name).to(device)\n",
    "\n",
    "def get_response(input_text, num_return_sequences=5,num_beams=5):\n",
    "  batch = tokenizer(input_text,truncation=True,padding='longest', return_tensors=\"pt\").to(device)\n",
    "  translated = model.generate(**batch, num_beams=num_beams, num_return_sequences=num_return_sequences, temperature=1.5)\n",
    "  tgt_text = tokenizer.batch_decode(translated, skip_special_tokens=True)\n",
    "  return tgt_text\n"
   ]
  },
  {
   "cell_type": "code",
   "execution_count": 3,
   "metadata": {},
   "outputs": [],
   "source": [
    "def paraphraser(batch_sentence : list, batch_size: int, num_beams=5, num_return_sequences=5) -> list:\n",
    "    \"\"\"\n",
    "    Paraphrase a batch of sentences using a transformer-based model and select the least toxic paraphrase.\n",
    "\n",
    "    Args:\n",
    "        batch_sentence (list): A list of sentences to be paraphrased.\n",
    "        batch_size (int): The number of sentences in the batch.\n",
    "        num_beams (int): The number of beams for paraphrasing (default is 5).\n",
    "        num_return_sequences (int): The number of paraphrase sequences to return (default is 5).\n",
    "\n",
    "    Returns:\n",
    "        list: A list of the best paraphrased sentences with the least toxicity.\n",
    "\n",
    "    Note:\n",
    "    This function uses a transformer-based model to generate multiple paraphrased versions of the input sentences.\n",
    "    It then predicts the toxicity of each paraphrase and selects the least toxic one for each input sentence.\n",
    "\n",
    "    \"\"\"\n",
    "    paraphrased_variants = get_response(batch_sentence, num_beams=num_beams, num_return_sequences=num_return_sequences)\n",
    "    toxicity = classificator.predict(paraphrased_variants)['toxicity']\n",
    "    \n",
    "    best_paraphrased = []\n",
    "\n",
    "    for batch_start in range(batch_size):\n",
    "        left, right = batch_start * num_return_sequences,  (batch_start + 1) * num_return_sequences\n",
    "\n",
    "        ind = np.argmin(toxicity[left: right])\n",
    "        best_paraphrased.append(paraphrased_variants[left : right][ind])\n",
    "\n",
    "    return best_paraphrased\n"
   ]
  },
  {
   "cell_type": "code",
   "execution_count": 5,
   "metadata": {},
   "outputs": [],
   "source": [
    "from src.data.make_dataset import FilteredDataset\n",
    "from torch.utils.data import DataLoader\n",
    "\n",
    "batch_size = 16\n",
    "test_dataset = FilteredDataset(test=True)\n",
    "test_dataloader = DataLoader(test_dataset, batch_size=batch_size, drop_last=True)"
   ]
  },
  {
   "cell_type": "code",
   "execution_count": 6,
   "metadata": {},
   "outputs": [
    {
     "name": "stdout",
     "output_type": "stream",
     "text": [
      "Original:Hot chicks are starfuckers in Coeur d'Alene.\n",
      "Detoxified:There are hot chick in Coeur d'Alene.\n",
      "Original:Oh, Grace, don't be ridiculous.\n",
      "Detoxified:Grace, don't be crazy.\n",
      "Original:Two... - Fuck yo sister.\n",
      "Detoxified:Two...\n",
      "Original:Next time you decide to take a bath, Private, let me know, or I'll kick your ass,\n",
      "Detoxified:Next time you decide to take a bath, Private, let me know, or I'll kick your ass.\n",
      "Original:I finally caught you, you dirty--\n",
      "Detoxified:I finally caught you.\n",
      "Original:God, diarrhoea like thatmust be Anti-Hippocratic.\n",
      "Detoxified:It is Anti-Hippocratic to have diarrhoea like that.\n",
      "Original:You're a liar. - And I love you for it.\n",
      "Detoxified:I love you for lying.\n",
      "Original:'I don't need to look at that rubbish, I know it all.'\n",
      "Detoxified:I know what I'm talking about, so I don't need to look at it.\n",
      "Original:You know You bitch and you complain and you tell me these things.\n",
      "Detoxified:You complain and you tell me these things.\n",
      "Original:I'm so damned disappointed.\n",
      "Detoxified:I'm very disappointed.\n",
      "Original:No use to running fool.\n",
      "Detoxified:No need to run around.\n",
      "Original:Get the hell outta here, Bernie.\n",
      "Detoxified:Get the hell out of here, Bernie.\n",
      "Original:A lot of people walking around already dead... ...just need to be put out of their misery.\n",
      "Detoxified:A lot of people are walking around dead.\n",
      "Original:I'm crying 'cause you're the f...\n",
      "Detoxified:I'm crying because you're...\n",
      "Original:Mom said you came around ass her.\n",
      "Detoxified:Mom said that you came around.\n",
      "Original:And I once had sex with this woman.\n",
      "Detoxified:I once had sex with a woman.\n"
     ]
    }
   ],
   "source": [
    "for batch, label in test_dataloader:\n",
    "    detoxified = paraphraser(batch, batch_size)\n",
    "    for original, detox in zip(batch, detoxified):\n",
    "        print(f'Original:{original}')\n",
    "        print(f'Detoxified:{detox}')\n",
    "    break"
   ]
  },
  {
   "cell_type": "markdown",
   "metadata": {},
   "source": [
    "In previous we classified and paraphrased each word in sentence, now the model, since it seq2seq, it allows us to paraphrased any number of words in sentence, so let’s introduce hyperparameter n - number of words in one token"
   ]
  },
  {
   "cell_type": "code",
   "execution_count": 4,
   "metadata": {},
   "outputs": [],
   "source": [
    "#n-hyperparameter\n",
    "#n-word tokenizer\n",
    "from typing import Union\n",
    "\n",
    "def n_word_tokenizer(sentences: Union[str, list], n=2):\n",
    "    \"\"\"\n",
    "    Tokenize input sentences into n-word chunks using a specified value of n.\n",
    "\n",
    "    Args:\n",
    "        sentences (Union[str, list]): A single sentence or a list of sentences to tokenize.\n",
    "        n (int, optional): The number of words in each chunk (default is 2).\n",
    "\n",
    "    Returns:\n",
    "        list: A list of tokenized sentences, where each sentence is divided into n-word chunks.\n",
    "\n",
    "    Note:\n",
    "    This function takes input sentences and tokenizes them into chunks of n words each. It can accept\n",
    "    either a single sentence as a string or a list of sentences. If a single sentence is provided, it is\n",
    "    treated as a batch of one sentence.\n",
    "    \"\"\"\n",
    "    if isinstance(sentences, str):\n",
    "        sentences = [sentences]\n",
    "\n",
    "    batch = []\n",
    "    for sentence in sentences:\n",
    "        splitted = sentence.split()\n",
    "        slices = [splitted[i * n: i * n + n] for i in range((len(splitted)  + n - 1)// n)]\n",
    "        n_sentence = [' '.join(part) for part in slices]\n",
    "        batch.append(n_sentence)\n",
    "    return batch"
   ]
  },
  {
   "cell_type": "code",
   "execution_count": 8,
   "metadata": {},
   "outputs": [
    {
     "data": {
      "text/plain": [
       "[['n_word tokenizer',\n",
       "  'split the',\n",
       "  'sentence into',\n",
       "  'list, where',\n",
       "  'len of',\n",
       "  'each element',\n",
       "  'is <=',\n",
       "  'n']]"
      ]
     },
     "execution_count": 8,
     "metadata": {},
     "output_type": "execute_result"
    }
   ],
   "source": [
    "n_word_tokenizer('n_word tokenizer split the sentence into list, where len of each element is <= n', n=2)"
   ]
  },
  {
   "cell_type": "code",
   "execution_count": 9,
   "metadata": {},
   "outputs": [
    {
     "data": {
      "image/png": "[encoded data removed]",
      "text/plain": [
       "<Figure size 1000x500 with 1 Axes>"
      ]
     },
     "metadata": {},
     "output_type": "display_data"
    }
   ],
   "source": [
    "import matplotlib.pyplot as plt\n",
    "import numpy as np\n",
    "\n",
    "X = np.concatenate([batch for batch, _ in test_dataloader])\n",
    "\n",
    "lens = list(map(lambda x: len(x.split()), X))\n",
    "unique_lens, cnt = np.unique(lens, return_counts=True)\n",
    "\n",
    "\n",
    "mean = np.sum(unique_lens * cnt) / np.sum(cnt)\n",
    "\n",
    "plt.figure(figsize=(10, 5))\n",
    "plt.bar(unique_lens, cnt)\n",
    "\n",
    "plt.axvline(mean, color='red', linestyle='--', label=f'Mean: {mean:.2f}')\n",
    "plt.title('Number of words in sentence')\n",
    "plt.xlabel('Words count')\n",
    "plt.ylabel('Sentences')\n",
    "plt.legend()\n",
    "plt.show()\n"
   ]
  },
  {
   "cell_type": "markdown",
   "metadata": {},
   "source": [
    "**Gridsearch of n**\n",
    "\n",
    "let's take 1000 examples due to lack of perfomance and trying to figure out the best n"
   ]
  },
  {
   "cell_type": "code",
   "execution_count": 10,
   "metadata": {},
   "outputs": [],
   "source": [
    "from torch.utils.data import Subset\n",
    "\n",
    "N_samples = 1000\n",
    "num_return_sequences = 2\n",
    "batch_size = 4\n",
    "subset_dataset = Subset(test_dataset, np.arange(N_samples))\n",
    "subset_loader = DataLoader(subset_dataset, batch_size=batch_size)\n"
   ]
  },
  {
   "cell_type": "markdown",
   "metadata": {},
   "source": [
    "Since the number of words in average is 10, so let's grid search n until the half of sentence and take to consideration also the whole sentence"
   ]
  },
  {
   "cell_type": "code",
   "execution_count": 11,
   "metadata": {},
   "outputs": [
    {
     "name": "stderr",
     "output_type": "stream",
     "text": [
      "  0%|          | 0/5 [00:00<?, ?it/s]"
     ]
    },
    {
     "name": "stdout",
     "output_type": "stream",
     "text": [
      "running on cuda\n",
      "Calculating style of predictions\n"
     ]
    },
    {
     "name": "stderr",
     "output_type": "stream",
     "text": [
      "Some weights of the model checkpoint at SkolkovoInstitute/roberta_toxicity_classifier were not used when initializing RobertaForSequenceClassification: ['roberta.pooler.dense.bias', 'roberta.pooler.dense.weight']\n",
      "- This IS expected if you are initializing RobertaForSequenceClassification from the checkpoint of a model trained on another task or with another architecture (e.g. initializing a BertForSequenceClassification model from a BertForPreTraining model).\n",
      "- This IS NOT expected if you are initializing RobertaForSequenceClassification from the checkpoint of a model that you expect to be exactly identical (initializing a BertForSequenceClassification model from a BertForSequenceClassification model).\n",
      "100%|██████████| 32/32 [00:06<00:00,  4.73it/s]\n"
     ]
    },
    {
     "name": "stdout",
     "output_type": "stream",
     "text": [
      "Calculating BLEU similarity\n",
      "Calculating similarity by Wieting subword-embedding SIM model\n"
     ]
    },
    {
     "name": "stderr",
     "output_type": "stream",
     "text": [
      "100%|██████████| 32/32 [00:00<00:00, 83.90it/s]\n"
     ]
    },
    {
     "name": "stdout",
     "output_type": "stream",
     "text": [
      "Calculating CoLA acceptability stats\n"
     ]
    },
    {
     "name": "stderr",
     "output_type": "stream",
     "text": [
      "100%|██████████| 32/32 [00:07<00:00,  4.23it/s]\n",
      " 20%|██        | 1/5 [06:59<27:58, 419.55s/it]"
     ]
    },
    {
     "name": "stdout",
     "output_type": "stream",
     "text": [
      "| ACC | SIM |  FL  |   J   | BLEU |\n",
      "\n",
      "| --- | --- | ---- |  ---  | ---- |\n",
      "\n",
      "|0.7250|0.5518|0.4429|0.1766|0.2614|\n",
      "\n",
      "running on cuda\n",
      "Calculating style of predictions\n"
     ]
    },
    {
     "name": "stderr",
     "output_type": "stream",
     "text": [
      "Some weights of the model checkpoint at SkolkovoInstitute/roberta_toxicity_classifier were not used when initializing RobertaForSequenceClassification: ['roberta.pooler.dense.bias', 'roberta.pooler.dense.weight']\n",
      "- This IS expected if you are initializing RobertaForSequenceClassification from the checkpoint of a model trained on another task or with another architecture (e.g. initializing a BertForSequenceClassification model from a BertForPreTraining model).\n",
      "- This IS NOT expected if you are initializing RobertaForSequenceClassification from the checkpoint of a model that you expect to be exactly identical (initializing a BertForSequenceClassification model from a BertForSequenceClassification model).\n",
      "100%|██████████| 32/32 [00:01<00:00, 16.56it/s]\n"
     ]
    },
    {
     "name": "stdout",
     "output_type": "stream",
     "text": [
      "Calculating BLEU similarity\n",
      "Calculating similarity by Wieting subword-embedding SIM model\n"
     ]
    },
    {
     "name": "stderr",
     "output_type": "stream",
     "text": [
      "100%|██████████| 32/32 [00:00<00:00, 107.14it/s]\n"
     ]
    },
    {
     "name": "stdout",
     "output_type": "stream",
     "text": [
      "Calculating CoLA acceptability stats\n"
     ]
    },
    {
     "name": "stderr",
     "output_type": "stream",
     "text": [
      "100%|██████████| 32/32 [00:05<00:00,  6.23it/s]\n",
      " 40%|████      | 2/5 [11:39<16:52, 337.36s/it]"
     ]
    },
    {
     "name": "stdout",
     "output_type": "stream",
     "text": [
      "| ACC | SIM |  FL  |   J   | BLEU |\n",
      "\n",
      "| --- | --- | ---- |  ---  | ---- |\n",
      "\n",
      "|0.7530|0.5880|0.5915|0.2636|0.3195|\n",
      "\n",
      "running on cuda\n",
      "Calculating style of predictions\n"
     ]
    },
    {
     "name": "stderr",
     "output_type": "stream",
     "text": [
      "Some weights of the model checkpoint at SkolkovoInstitute/roberta_toxicity_classifier were not used when initializing RobertaForSequenceClassification: ['roberta.pooler.dense.bias', 'roberta.pooler.dense.weight']\n",
      "- This IS expected if you are initializing RobertaForSequenceClassification from the checkpoint of a model trained on another task or with another architecture (e.g. initializing a BertForSequenceClassification model from a BertForPreTraining model).\n",
      "- This IS NOT expected if you are initializing RobertaForSequenceClassification from the checkpoint of a model that you expect to be exactly identical (initializing a BertForSequenceClassification model from a BertForSequenceClassification model).\n",
      "100%|██████████| 32/32 [00:03<00:00,  8.64it/s]\n"
     ]
    },
    {
     "name": "stdout",
     "output_type": "stream",
     "text": [
      "Calculating BLEU similarity\n",
      "Calculating similarity by Wieting subword-embedding SIM model\n"
     ]
    },
    {
     "name": "stderr",
     "output_type": "stream",
     "text": [
      "100%|██████████| 32/32 [00:00<00:00, 126.23it/s]\n"
     ]
    },
    {
     "name": "stdout",
     "output_type": "stream",
     "text": [
      "Calculating CoLA acceptability stats\n"
     ]
    },
    {
     "name": "stderr",
     "output_type": "stream",
     "text": [
      "100%|██████████| 32/32 [00:06<00:00,  5.21it/s]\n",
      " 60%|██████    | 3/5 [16:50<10:50, 325.29s/it]"
     ]
    },
    {
     "name": "stdout",
     "output_type": "stream",
     "text": [
      "| ACC | SIM |  FL  |   J   | BLEU |\n",
      "\n",
      "| --- | --- | ---- |  ---  | ---- |\n",
      "\n",
      "|0.7640|0.6146|0.6671|0.3124|0.3579|\n",
      "\n",
      "running on cuda\n",
      "Calculating style of predictions\n"
     ]
    },
    {
     "name": "stderr",
     "output_type": "stream",
     "text": [
      "Some weights of the model checkpoint at SkolkovoInstitute/roberta_toxicity_classifier were not used when initializing RobertaForSequenceClassification: ['roberta.pooler.dense.bias', 'roberta.pooler.dense.weight']\n",
      "- This IS expected if you are initializing RobertaForSequenceClassification from the checkpoint of a model trained on another task or with another architecture (e.g. initializing a BertForSequenceClassification model from a BertForPreTraining model).\n",
      "- This IS NOT expected if you are initializing RobertaForSequenceClassification from the checkpoint of a model that you expect to be exactly identical (initializing a BertForSequenceClassification model from a BertForSequenceClassification model).\n",
      "100%|██████████| 32/32 [00:01<00:00, 16.11it/s]\n"
     ]
    },
    {
     "name": "stdout",
     "output_type": "stream",
     "text": [
      "Calculating BLEU similarity\n",
      "Calculating similarity by Wieting subword-embedding SIM model\n"
     ]
    },
    {
     "name": "stderr",
     "output_type": "stream",
     "text": [
      "100%|██████████| 32/32 [00:00<00:00, 127.38it/s]\n"
     ]
    },
    {
     "name": "stdout",
     "output_type": "stream",
     "text": [
      "Calculating CoLA acceptability stats\n"
     ]
    },
    {
     "name": "stderr",
     "output_type": "stream",
     "text": [
      "100%|██████████| 32/32 [00:05<00:00,  6.30it/s]\n",
      " 80%|████████  | 4/5 [21:00<04:55, 295.58s/it]"
     ]
    },
    {
     "name": "stdout",
     "output_type": "stream",
     "text": [
      "| ACC | SIM |  FL  |   J   | BLEU |\n",
      "\n",
      "| --- | --- | ---- |  ---  | ---- |\n",
      "\n",
      "|0.7510|0.6183|0.7336|0.3471|0.3838|\n",
      "\n",
      "running on cuda\n",
      "Calculating style of predictions\n"
     ]
    },
    {
     "name": "stderr",
     "output_type": "stream",
     "text": [
      "Some weights of the model checkpoint at SkolkovoInstitute/roberta_toxicity_classifier were not used when initializing RobertaForSequenceClassification: ['roberta.pooler.dense.bias', 'roberta.pooler.dense.weight']\n",
      "- This IS expected if you are initializing RobertaForSequenceClassification from the checkpoint of a model trained on another task or with another architecture (e.g. initializing a BertForSequenceClassification model from a BertForPreTraining model).\n",
      "- This IS NOT expected if you are initializing RobertaForSequenceClassification from the checkpoint of a model that you expect to be exactly identical (initializing a BertForSequenceClassification model from a BertForSequenceClassification model).\n",
      "100%|██████████| 32/32 [00:01<00:00, 29.58it/s]\n"
     ]
    },
    {
     "name": "stdout",
     "output_type": "stream",
     "text": [
      "Calculating BLEU similarity\n",
      "Calculating similarity by Wieting subword-embedding SIM model\n"
     ]
    },
    {
     "name": "stderr",
     "output_type": "stream",
     "text": [
      "100%|██████████| 32/32 [00:00<00:00, 147.45it/s]\n"
     ]
    },
    {
     "name": "stdout",
     "output_type": "stream",
     "text": [
      "Calculating CoLA acceptability stats\n"
     ]
    },
    {
     "name": "stderr",
     "output_type": "stream",
     "text": [
      "100%|██████████| 32/32 [00:02<00:00, 11.00it/s]\n",
      "100%|██████████| 5/5 [24:38<00:00, 295.72s/it]"
     ]
    },
    {
     "name": "stdout",
     "output_type": "stream",
     "text": [
      "| ACC | SIM |  FL  |   J   | BLEU |\n",
      "\n",
      "| --- | --- | ---- |  ---  | ---- |\n",
      "\n",
      "|0.7660|0.6542|0.9302|0.4696|0.4303|\n",
      "\n"
     ]
    },
    {
     "name": "stderr",
     "output_type": "stream",
     "text": [
      "\n"
     ]
    }
   ],
   "source": [
    "max_number_of_words = max(lens)\n",
    "n_params = [2, 3, 4, 5, max_number_of_words]\n",
    "dict_metrics = {'ACC': [], 'SIM': [], 'FL': [], 'J': [], 'BLUE':[]}\n",
    "\n",
    "for n in tqdm(n_params):\n",
    "    outputs = []\n",
    "    target = []\n",
    "\n",
    "    for batch, y_true in subset_loader:\n",
    "        tokenized = n_word_tokenizer(batch, n)\n",
    "        offset = [len(x) for x in tokenized]\n",
    "        offset = [sum(offset[:i]) for i in range(len(offset) + 1)]\n",
    "        tokenized = np.concatenate(tokenized)\n",
    "        paraphrased = paraphraser(list(tokenized), len(tokenized))\n",
    "        collected_batch = [' '.join(paraphrased[offset[i]: offset[i + 1]]) for i in range(len(offset) - 1)]\n",
    "        \n",
    "        outputs += collected_batch\n",
    "        target += y_true\n",
    "    \n",
    "    metrics = calculate_metric(target, outputs)\n",
    "    for key in metrics:\n",
    "        dict_metrics[key].append(metrics[key])\n",
    "\n"
   ]
  },
  {
   "cell_type": "code",
   "execution_count": 14,
   "metadata": {},
   "outputs": [
    {
     "data": {
      "text/plain": [
       "{'ACC': [0.725, 0.753, 0.764, 0.751, 0.766],\n",
       " 'SIM': [0.551764698151499,\n",
       "  0.5880206808894872,\n",
       "  0.6145981463659554,\n",
       "  0.6183480717912316,\n",
       "  0.6541988720968366],\n",
       " 'FL': [0.44287023024912925,\n",
       "  0.5914560647010804,\n",
       "  0.667122672945261,\n",
       "  0.733566449037753,\n",
       "  0.9301836207006127],\n",
       " 'J': [0.17660851112941753,\n",
       "  0.2636181540822002,\n",
       "  0.31237335675173555,\n",
       "  0.3471257049960368,\n",
       "  0.4696395470833589],\n",
       " 'BLUE': [0.2613636579492054,\n",
       "  0.3195059743053478,\n",
       "  0.35786435167422864,\n",
       "  0.3837725397988029,\n",
       "  0.43032997251627525]}"
      ]
     },
     "execution_count": 14,
     "metadata": {},
     "output_type": "execute_result"
    }
   ],
   "source": [
    "dict_metrics"
   ]
  },
  {
   "cell_type": "code",
   "execution_count": 15,
   "metadata": {},
   "outputs": [
    {
     "data": {
      "image/png": "[encoded data removed]",
      "text/plain": [
       "<Figure size 1500x500 with 5 Axes>"
      ]
     },
     "metadata": {},
     "output_type": "display_data"
    }
   ],
   "source": [
    "fig, axs = plt.subplots(1, len(dict_metrics), figsize=(15, 5))\n",
    "x = [2, 3, 4, 5, 6]\n",
    "#6 - the whole sentence\n",
    "for i, (metric, values) in enumerate(dict_metrics.items()):\n",
    "    axs[i].plot(x, np.round(values, 2))\n",
    "    axs[i].set_title(metric)\n",
    "    axs[i].set_xlabel('x values')\n",
    "    axs[i].set_ylabel(metric)\n",
    "\n",
    "plt.tight_layout()\n",
    "plt.show()"
   ]
  },
  {
   "cell_type": "markdown",
   "metadata": {},
   "source": [
    "As we can see, with the increase of n - metrics increases, so for the future we will use only whole sentence"
   ]
  },
  {
   "cell_type": "code",
   "execution_count": 11,
   "metadata": {},
   "outputs": [
    {
     "name": "stderr",
     "output_type": "stream",
     "text": [
      "100%|██████████| 1034/1034 [51:58<00:00,  3.02s/it] \n"
     ]
    }
   ],
   "source": [
    "outputs = []\n",
    "target = []\n",
    "\n",
    "for batch, y_true in tqdm(test_dataloader):\n",
    "    paraphrased = paraphraser(batch, batch_size) \n",
    "    outputs.extend(paraphrased)\n",
    "    target.extend(y_true)\n",
    "\n",
    "predictions_hypothesis1 = pd.DataFrame({'Predictions': outputs})\n",
    "predictions_hypothesis1.to_csv('../data/interim/hypothesis1_predictions.csv')"
   ]
  },
  {
   "cell_type": "code",
   "execution_count": 12,
   "metadata": {},
   "outputs": [
    {
     "data": {
      "text/plain": [
       "[\"There are hot chick in Coeur d'Alene.\",\n",
       " \"Grace, don't be crazy.\",\n",
       " 'Two...',\n",
       " \"Next time you decide to take a bath, Private, let me know, or I'll kick your ass.\",\n",
       " 'I finally caught you.']"
      ]
     },
     "execution_count": 12,
     "metadata": {},
     "output_type": "execute_result"
    }
   ],
   "source": [
    "predictions_hypothesis1 = pd.read_csv('../data/interim/hypothesis1_predictions.csv', index_col=0)\n",
    "predictions_hypothesis1 = list(predictions_hypothesis1['Predictions'].values)\n",
    "predictions_hypothesis1[:5]"
   ]
  },
  {
   "cell_type": "code",
   "execution_count": 13,
   "metadata": {},
   "outputs": [
    {
     "name": "stdout",
     "output_type": "stream",
     "text": [
      "running on cuda\n",
      "Calculating style of predictions\n"
     ]
    },
    {
     "name": "stderr",
     "output_type": "stream",
     "text": [
      "Some weights of the model checkpoint at SkolkovoInstitute/roberta_toxicity_classifier were not used when initializing RobertaForSequenceClassification: ['roberta.pooler.dense.bias', 'roberta.pooler.dense.weight']\n",
      "- This IS expected if you are initializing RobertaForSequenceClassification from the checkpoint of a model trained on another task or with another architecture (e.g. initializing a BertForSequenceClassification model from a BertForPreTraining model).\n",
      "- This IS NOT expected if you are initializing RobertaForSequenceClassification from the checkpoint of a model that you expect to be exactly identical (initializing a BertForSequenceClassification model from a BertForSequenceClassification model).\n",
      "100%|██████████| 517/517 [00:25<00:00, 20.42it/s]\n"
     ]
    },
    {
     "name": "stdout",
     "output_type": "stream",
     "text": [
      "Calculating BLEU similarity\n",
      "Calculating similarity by Wieting subword-embedding SIM model\n"
     ]
    },
    {
     "name": "stderr",
     "output_type": "stream",
     "text": [
      "100%|██████████| 517/517 [00:03<00:00, 150.06it/s]\n"
     ]
    },
    {
     "name": "stdout",
     "output_type": "stream",
     "text": [
      "Calculating CoLA acceptability stats\n"
     ]
    },
    {
     "name": "stderr",
     "output_type": "stream",
     "text": [
      "100%|██████████| 517/517 [01:01<00:00,  8.37it/s]\n"
     ]
    },
    {
     "name": "stdout",
     "output_type": "stream",
     "text": [
      "| ACC | SIM |  FL  |   J   | BLEU |\n",
      "\n",
      "| --- | --- | ---- |  ---  | ---- |\n",
      "\n",
      "|0.7569|0.6511|0.9333|0.4640|0.4248|\n",
      "\n"
     ]
    },
    {
     "data": {
      "text/plain": [
       "{'ACC': 0.7568907156673114,\n",
       " 'SIM': 0.6511195927311573,\n",
       " 'FL': 0.9333203696437847,\n",
       " 'J': 0.4639579122112243,\n",
       " 'BLUE': 0.4248203542470307}"
      ]
     },
     "execution_count": 13,
     "metadata": {},
     "output_type": "execute_result"
    }
   ],
   "source": [
    "calculate_metric(target, predictions_hypothesis1)"
   ]
  },
  {
   "cell_type": "code",
   "execution_count": null,
   "metadata": {},
   "outputs": [],
   "source": []
  }
 ],
 "metadata": {
  "kernelspec": {
   "display_name": "Python 3",
   "language": "python",
   "name": "python3"
  },
  "language_info": {
   "codemirror_mode": {
    "name": "ipython",
    "version": 3
   },
   "file_extension": ".py",
   "mimetype": "text/x-python",
   "name": "python",
   "nbconvert_exporter": "python",
   "pygments_lexer": "ipython3",
   "version": "3.9.13"
  }
 },
 "nbformat": 4,
 "nbformat_minor": 2
}
